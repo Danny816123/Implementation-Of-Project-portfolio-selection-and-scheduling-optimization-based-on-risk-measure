{
 "cells": [
  {
   "cell_type": "code",
   "execution_count": 1,
   "metadata": {},
   "outputs": [],
   "source": [
    "import pandas as pd\n",
    "from ProjectPortfolioSelection import *\n",
    "from itertools import product\n",
    "warnings.filterwarnings(\"ignore\")"
   ]
  },
  {
   "cell_type": "code",
   "execution_count": 2,
   "metadata": {},
   "outputs": [],
   "source": [
    "risk_weights = pd.read_csv('Table_4.csv', index_col=0).iloc[:, -1]\n",
    "projects = pd.read_csv('Table_5.csv', index_col=0)"
   ]
  },
  {
   "cell_type": "code",
   "execution_count": 3,
   "metadata": {},
   "outputs": [],
   "source": [
    "categories = {\n",
    "    'Derivative' : np.array([1, 1, 1, 1, 1, 1, 1, 1, 0, 0, 0, 0, 0, 1, 0, 0, 0, 0, 0, 0]),\n",
    "    'Platform' : np.array([0, 0, 0, 0, 0, 0, 0, 0, 1, 1, 1, 1, 1, 0, 0, 0, 0, 0, 0, 0]),\n",
    "    'Breakthrough' : np.array([0, 0, 0, 0, 0, 0, 0, 0, 0, 0, 0, 0, 0, 0, 1, 1, 1, 1, 1, 0]),\n",
    "    'R&D' : np.array([0, 0, 0, 0, 0, 0, 0, 0, 0, 0, 0, 0, 0, 0, 0, 0, 0, 0, 0, 1]),\n",
    "}"
   ]
  },
  {
   "cell_type": "code",
   "execution_count": 4,
   "metadata": {},
   "outputs": [
    {
     "name": "stderr",
     "output_type": "stream",
     "text": [
      "  0%|          | 0/31 [00:00<?, ?it/s]"
     ]
    },
    {
     "name": "stdout",
     "output_type": "stream",
     "text": [
      "`gtol` termination condition is satisfied.\n",
      "Number of iterations: 444, function evaluations: 9324, CG iterations: 2183, optimality: 4.86e-09, constraint violation: 0.00e+00, execution time: 5.2e+01 s.\n"
     ]
    },
    {
     "name": "stderr",
     "output_type": "stream",
     "text": []
    },
    {
     "name": "stdout",
     "output_type": "stream",
     "text": [
      "`gtol` termination condition is satisfied.\n",
      "Number of iterations: 32, function evaluations: 504, CG iterations: 176, optimality: 4.84e-09, constraint violation: 0.00e+00, execution time:  2.6 s.\n"
     ]
    },
    {
     "name": "stderr",
     "output_type": "stream",
     "text": []
    },
    {
     "name": "stdout",
     "output_type": "stream",
     "text": [
      "The maximum number of function evaluations is exceeded.\n",
      "Number of iterations: 1000, function evaluations: 42, CG iterations: 2997, optimality: 4.83e-02, constraint violation: 0.00e+00, execution time: 0.92 s.\n"
     ]
    },
    {
     "name": "stderr",
     "output_type": "stream",
     "text": []
    },
    {
     "name": "stdout",
     "output_type": "stream",
     "text": [
      "The maximum number of function evaluations is exceeded.\n",
      "Number of iterations: 1000, function evaluations: 42, CG iterations: 2997, optimality: 4.83e-02, constraint violation: 0.00e+00, execution time: 0.86 s.\n"
     ]
    },
    {
     "name": "stderr",
     "output_type": "stream",
     "text": []
    },
    {
     "name": "stdout",
     "output_type": "stream",
     "text": [
      "`gtol` termination condition is satisfied.\n",
      "Number of iterations: 101, function evaluations: 2121, CG iterations: 462, optimality: 4.95e-09, constraint violation: 0.00e+00, execution time: 1.1e+01 s.\n"
     ]
    },
    {
     "name": "stderr",
     "output_type": "stream",
     "text": [
      "100%|██████████| 6/6 [02:02<00:00, 20.46s/it]\n",
      "  3%|▎         | 1/31 [02:05<1:02:46, 125.55s/it]"
     ]
    },
    {
     "name": "stdout",
     "output_type": "stream",
     "text": [
      "`xtol` termination condition is satisfied.\n",
      "Number of iterations: 284, function evaluations: 10206, CG iterations: 804, optimality: 4.11e-07, constraint violation: 0.00e+00, execution time: 5.4e+01 s.\n"
     ]
    },
    {
     "name": "stderr",
     "output_type": "stream",
     "text": []
    },
    {
     "name": "stdout",
     "output_type": "stream",
     "text": [
      "`gtol` termination condition is satisfied.\n",
      "Number of iterations: 144, function evaluations: 3024, CG iterations: 1542, optimality: 9.68e-09, constraint violation: 0.00e+00, execution time: 1.8e+01 s.\n"
     ]
    },
    {
     "name": "stderr",
     "output_type": "stream",
     "text": []
    },
    {
     "name": "stdout",
     "output_type": "stream",
     "text": [
      "`gtol` termination condition is satisfied.\n",
      "Number of iterations: 163, function evaluations: 1743, CG iterations: 775, optimality: 4.84e-09, constraint violation: 0.00e+00, execution time: 1e+01 s.\n"
     ]
    },
    {
     "name": "stderr",
     "output_type": "stream",
     "text": []
    },
    {
     "name": "stdout",
     "output_type": "stream",
     "text": [
      "The maximum number of function evaluations is exceeded.\n",
      "Number of iterations: 1000, function evaluations: 42, CG iterations: 2997, optimality: 4.83e-02, constraint violation: 0.00e+00, execution time: 0.87 s.\n"
     ]
    },
    {
     "name": "stderr",
     "output_type": "stream",
     "text": []
    },
    {
     "name": "stdout",
     "output_type": "stream",
     "text": [
      "The maximum number of function evaluations is exceeded.\n",
      "Number of iterations: 1000, function evaluations: 42, CG iterations: 2997, optimality: 4.83e-02, constraint violation: 0.00e+00, execution time: 0.88 s.\n"
     ]
    },
    {
     "name": "stderr",
     "output_type": "stream",
     "text": []
    },
    {
     "name": "stdout",
     "output_type": "stream",
     "text": [
      "`gtol` termination condition is satisfied.\n",
      "Number of iterations: 164, function evaluations: 3318, CG iterations: 909, optimality: 4.84e-09, constraint violation: 0.00e+00, execution time: 1.9e+01 s.\n"
     ]
    },
    {
     "name": "stderr",
     "output_type": "stream",
     "text": [
      "100%|██████████| 6/6 [00:57<00:00,  9.67s/it]\n",
      "  6%|▋         | 2/31 [03:05<42:02, 86.97s/it]   "
     ]
    },
    {
     "name": "stdout",
     "output_type": "stream",
     "text": [
      "`xtol` termination condition is satisfied.\n",
      "Number of iterations: 155, function evaluations: 1596, CG iterations: 481, optimality: 1.93e-07, constraint violation: 0.00e+00, execution time:  9.0 s.\n"
     ]
    },
    {
     "name": "stderr",
     "output_type": "stream",
     "text": []
    },
    {
     "name": "stdout",
     "output_type": "stream",
     "text": [
      "`xtol` termination condition is satisfied.\n",
      "Number of iterations: 195, function evaluations: 4074, CG iterations: 1616, optimality: 3.04e-08, constraint violation: 8.75e-03, execution time: 2.3e+01 s.\n"
     ]
    },
    {
     "name": "stderr",
     "output_type": "stream",
     "text": []
    },
    {
     "name": "stdout",
     "output_type": "stream",
     "text": [
      "The maximum number of function evaluations is exceeded.\n",
      "Number of iterations: 1000, function evaluations: 15099, CG iterations: 10964, optimality: 9.46e-03, constraint violation: 0.00e+00, execution time: 8.9e+01 s.\n"
     ]
    },
    {
     "name": "stderr",
     "output_type": "stream",
     "text": []
    },
    {
     "name": "stdout",
     "output_type": "stream",
     "text": [
      "The maximum number of function evaluations is exceeded.\n",
      "Number of iterations: 1000, function evaluations: 42, CG iterations: 2997, optimality: 4.83e-02, constraint violation: 0.00e+00, execution time: 0.87 s.\n"
     ]
    },
    {
     "name": "stderr",
     "output_type": "stream",
     "text": []
    },
    {
     "name": "stdout",
     "output_type": "stream",
     "text": [
      "The maximum number of function evaluations is exceeded.\n",
      "Number of iterations: 1000, function evaluations: 42, CG iterations: 2997, optimality: 4.83e-02, constraint violation: 0.00e+00, execution time: 0.88 s.\n"
     ]
    },
    {
     "name": "stderr",
     "output_type": "stream",
     "text": []
    },
    {
     "name": "stdout",
     "output_type": "stream",
     "text": [
      "`xtol` termination condition is satisfied.\n",
      "Number of iterations: 385, function evaluations: 10962, CG iterations: 2285, optimality: 8.92e-06, constraint violation: 0.00e+00, execution time: 6.2e+01 s.\n"
     ]
    },
    {
     "name": "stderr",
     "output_type": "stream",
     "text": [
      "100%|██████████| 6/6 [03:23<00:00, 33.97s/it]\n",
      " 10%|▉         | 3/31 [06:31<1:05:54, 141.25s/it]"
     ]
    },
    {
     "name": "stdout",
     "output_type": "stream",
     "text": [
      "`xtol` termination condition is satisfied.\n",
      "Number of iterations: 141, function evaluations: 5061, CG iterations: 852, optimality: 1.79e-07, constraint violation: 0.00e+00, execution time: 2.8e+01 s.\n"
     ]
    },
    {
     "name": "stderr",
     "output_type": "stream",
     "text": []
    },
    {
     "name": "stdout",
     "output_type": "stream",
     "text": [
      "`gtol` termination condition is satisfied.\n",
      "Number of iterations: 25, function evaluations: 357, CG iterations: 102, optimality: 4.84e-09, constraint violation: 0.00e+00, execution time:  1.9 s.\n"
     ]
    },
    {
     "name": "stderr",
     "output_type": "stream",
     "text": []
    },
    {
     "name": "stdout",
     "output_type": "stream",
     "text": [
      "`gtol` termination condition is satisfied.\n",
      "Number of iterations: 42, function evaluations: 945, CG iterations: 367, optimality: 4.84e-09, constraint violation: 0.00e+00, execution time:  5.2 s.\n"
     ]
    },
    {
     "name": "stderr",
     "output_type": "stream",
     "text": []
    },
    {
     "name": "stdout",
     "output_type": "stream",
     "text": [
      "The maximum number of function evaluations is exceeded.\n",
      "Number of iterations: 1000, function evaluations: 42, CG iterations: 2997, optimality: 4.83e-02, constraint violation: 0.00e+00, execution time: 0.86 s.\n"
     ]
    },
    {
     "name": "stderr",
     "output_type": "stream",
     "text": []
    },
    {
     "name": "stdout",
     "output_type": "stream",
     "text": [
      "The maximum number of function evaluations is exceeded.\n",
      "Number of iterations: 1000, function evaluations: 42, CG iterations: 2997, optimality: 4.83e-02, constraint violation: 0.00e+00, execution time: 0.86 s.\n"
     ]
    },
    {
     "name": "stderr",
     "output_type": "stream",
     "text": []
    },
    {
     "name": "stdout",
     "output_type": "stream",
     "text": [
      "`gtol` termination condition is satisfied.\n",
      "Number of iterations: 159, function evaluations: 3150, CG iterations: 1494, optimality: 4.84e-09, constraint violation: 0.00e+00, execution time: 1.8e+01 s.\n"
     ]
    },
    {
     "name": "stderr",
     "output_type": "stream",
     "text": [
      "100%|██████████| 6/6 [00:29<00:00,  4.83s/it]\n",
      " 13%|█▎        | 4/31 [07:02<43:58, 97.72s/it]   "
     ]
    },
    {
     "name": "stdout",
     "output_type": "stream",
     "text": [
      "`gtol` termination condition is satisfied.\n",
      "Number of iterations: 26, function evaluations: 357, CG iterations: 112, optimality: 4.84e-09, constraint violation: 0.00e+00, execution time:  1.9 s.\n"
     ]
    },
    {
     "name": "stderr",
     "output_type": "stream",
     "text": []
    },
    {
     "name": "stdout",
     "output_type": "stream",
     "text": [
      "`gtol` termination condition is satisfied.\n",
      "Number of iterations: 83, function evaluations: 1575, CG iterations: 343, optimality: 4.84e-09, constraint violation: 0.00e+00, execution time:  9.0 s.\n"
     ]
    },
    {
     "name": "stderr",
     "output_type": "stream",
     "text": []
    },
    {
     "name": "stdout",
     "output_type": "stream",
     "text": [
      "`gtol` termination condition is satisfied.\n",
      "Number of iterations: 25, function evaluations: 336, CG iterations: 105, optimality: 4.84e-09, constraint violation: 0.00e+00, execution time:  1.8 s.\n"
     ]
    },
    {
     "name": "stderr",
     "output_type": "stream",
     "text": []
    },
    {
     "name": "stdout",
     "output_type": "stream",
     "text": [
      "The maximum number of function evaluations is exceeded.\n",
      "Number of iterations: 1000, function evaluations: 42, CG iterations: 2997, optimality: 4.83e-02, constraint violation: 0.00e+00, execution time: 0.86 s.\n"
     ]
    },
    {
     "name": "stderr",
     "output_type": "stream",
     "text": []
    },
    {
     "name": "stdout",
     "output_type": "stream",
     "text": [
      "The maximum number of function evaluations is exceeded.\n",
      "Number of iterations: 1000, function evaluations: 42, CG iterations: 2997, optimality: 4.83e-02, constraint violation: 0.00e+00, execution time: 0.86 s.\n"
     ]
    },
    {
     "name": "stderr",
     "output_type": "stream",
     "text": []
    },
    {
     "name": "stdout",
     "output_type": "stream",
     "text": [
      "`xtol` termination condition is satisfied.\n",
      "Number of iterations: 509, function evaluations: 11550, CG iterations: 4558, optimality: 1.08e-05, constraint violation: 0.00e+00, execution time: 6.6e+01 s.\n"
     ]
    },
    {
     "name": "stderr",
     "output_type": "stream",
     "text": [
      "100%|██████████| 6/6 [01:34<00:00, 15.83s/it]\n",
      " 16%|█▌        | 5/31 [08:39<42:13, 97.46s/it]"
     ]
    },
    {
     "name": "stdout",
     "output_type": "stream",
     "text": [
      "`xtol` termination condition is satisfied.\n",
      "Number of iterations: 141, function evaluations: 2793, CG iterations: 1003, optimality: 9.68e-10, constraint violation: 5.53e-03, execution time: 1.6e+01 s.\n"
     ]
    },
    {
     "name": "stderr",
     "output_type": "stream",
     "text": []
    },
    {
     "name": "stdout",
     "output_type": "stream",
     "text": [
      "The maximum number of function evaluations is exceeded.\n",
      "Number of iterations: 1000, function evaluations: 21000, CG iterations: 7433, optimality: 7.59e-05, constraint violation: 6.67e-03, execution time: 1.2e+02 s.\n"
     ]
    },
    {
     "name": "stderr",
     "output_type": "stream",
     "text": []
    },
    {
     "name": "stdout",
     "output_type": "stream",
     "text": [
      "`gtol` termination condition is satisfied.\n",
      "Number of iterations: 364, function evaluations: 7812, CG iterations: 3129, optimality: 4.84e-09, constraint violation: 0.00e+00, execution time: 4.5e+01 s.\n"
     ]
    },
    {
     "name": "stderr",
     "output_type": "stream",
     "text": []
    },
    {
     "name": "stdout",
     "output_type": "stream",
     "text": [
      "The maximum number of function evaluations is exceeded.\n",
      "Number of iterations: 1000, function evaluations: 42, CG iterations: 2997, optimality: 4.83e-02, constraint violation: 0.00e+00, execution time: 0.94 s.\n"
     ]
    },
    {
     "name": "stderr",
     "output_type": "stream",
     "text": []
    },
    {
     "name": "stdout",
     "output_type": "stream",
     "text": [
      "The maximum number of function evaluations is exceeded.\n",
      "Number of iterations: 1000, function evaluations: 42, CG iterations: 2997, optimality: 4.83e-02, constraint violation: 0.00e+00, execution time: 0.94 s.\n"
     ]
    },
    {
     "name": "stderr",
     "output_type": "stream",
     "text": []
    },
    {
     "name": "stdout",
     "output_type": "stream",
     "text": [
      "`gtol` termination condition is satisfied.\n",
      "Number of iterations: 101, function evaluations: 2121, CG iterations: 552, optimality: 4.95e-09, constraint violation: 0.00e+00, execution time: 1.2e+01 s.\n"
     ]
    },
    {
     "name": "stderr",
     "output_type": "stream",
     "text": [
      "100%|██████████| 6/6 [03:46<00:00, 37.73s/it]\n",
      " 19%|█▉        | 6/31 [12:27<59:09, 141.98s/it]"
     ]
    },
    {
     "name": "stdout",
     "output_type": "stream",
     "text": [
      "`xtol` termination condition is satisfied.\n",
      "Number of iterations: 272, function evaluations: 7938, CG iterations: 1499, optimality: 7.16e-06, constraint violation: 0.00e+00, execution time: 4.7e+01 s.\n"
     ]
    },
    {
     "name": "stderr",
     "output_type": "stream",
     "text": []
    },
    {
     "name": "stdout",
     "output_type": "stream",
     "text": [
      "`xtol` termination condition is satisfied.\n",
      "Number of iterations: 133, function evaluations: 462, CG iterations: 365, optimality: 1.49e-07, constraint violation: 0.00e+00, execution time:  2.6 s.\n"
     ]
    },
    {
     "name": "stderr",
     "output_type": "stream",
     "text": []
    },
    {
     "name": "stdout",
     "output_type": "stream",
     "text": [
      "`xtol` termination condition is satisfied.\n",
      "Number of iterations: 155, function evaluations: 5229, CG iterations: 585, optimality: 3.23e-07, constraint violation: 0.00e+00, execution time: 3e+01 s.\n"
     ]
    },
    {
     "name": "stderr",
     "output_type": "stream",
     "text": []
    },
    {
     "name": "stdout",
     "output_type": "stream",
     "text": [
      "The maximum number of function evaluations is exceeded.\n",
      "Number of iterations: 1000, function evaluations: 42, CG iterations: 2997, optimality: 4.83e-02, constraint violation: 0.00e+00, execution time: 0.92 s.\n"
     ]
    },
    {
     "name": "stderr",
     "output_type": "stream",
     "text": []
    },
    {
     "name": "stdout",
     "output_type": "stream",
     "text": [
      "The maximum number of function evaluations is exceeded.\n",
      "Number of iterations: 1000, function evaluations: 42, CG iterations: 2997, optimality: 4.83e-02, constraint violation: 0.00e+00, execution time: 0.87 s.\n"
     ]
    },
    {
     "name": "stderr",
     "output_type": "stream",
     "text": []
    },
    {
     "name": "stdout",
     "output_type": "stream",
     "text": [
      "`gtol` termination condition is satisfied.\n",
      "Number of iterations: 101, function evaluations: 2121, CG iterations: 485, optimality: 4.95e-09, constraint violation: 0.00e+00, execution time: 1.2e+01 s.\n"
     ]
    },
    {
     "name": "stderr",
     "output_type": "stream",
     "text": [
      "100%|██████████| 6/6 [00:50<00:00,  8.49s/it]\n",
      " 23%|██▎       | 7/31 [13:20<45:09, 112.90s/it]"
     ]
    },
    {
     "name": "stdout",
     "output_type": "stream",
     "text": [
      "`gtol` termination condition is satisfied.\n",
      "Number of iterations: 37, function evaluations: 651, CG iterations: 244, optimality: 4.84e-09, constraint violation: 0.00e+00, execution time:  3.8 s.\n"
     ]
    },
    {
     "name": "stderr",
     "output_type": "stream",
     "text": []
    },
    {
     "name": "stdout",
     "output_type": "stream",
     "text": [
      "`xtol` termination condition is satisfied.\n",
      "Number of iterations: 234, function evaluations: 4914, CG iterations: 2023, optimality: 9.73e-10, constraint violation: 3.02e-04, execution time: 2.9e+01 s.\n"
     ]
    },
    {
     "name": "stderr",
     "output_type": "stream",
     "text": []
    },
    {
     "name": "stdout",
     "output_type": "stream",
     "text": [
      "`gtol` termination condition is satisfied.\n",
      "Number of iterations: 29, function evaluations: 399, CG iterations: 83, optimality: 4.84e-09, constraint violation: 0.00e+00, execution time:  2.2 s.\n"
     ]
    },
    {
     "name": "stderr",
     "output_type": "stream",
     "text": []
    },
    {
     "name": "stdout",
     "output_type": "stream",
     "text": [
      "The maximum number of function evaluations is exceeded.\n",
      "Number of iterations: 1000, function evaluations: 42, CG iterations: 2997, optimality: 4.83e-02, constraint violation: 0.00e+00, execution time: 0.89 s.\n"
     ]
    },
    {
     "name": "stderr",
     "output_type": "stream",
     "text": []
    },
    {
     "name": "stdout",
     "output_type": "stream",
     "text": [
      "The maximum number of function evaluations is exceeded.\n",
      "Number of iterations: 1000, function evaluations: 42, CG iterations: 2997, optimality: 4.83e-02, constraint violation: 0.00e+00, execution time: 0.89 s.\n"
     ]
    },
    {
     "name": "stderr",
     "output_type": "stream",
     "text": []
    },
    {
     "name": "stdout",
     "output_type": "stream",
     "text": [
      "`gtol` termination condition is satisfied.\n",
      "Number of iterations: 134, function evaluations: 3150, CG iterations: 1007, optimality: 4.84e-09, constraint violation: 0.00e+00, execution time: 1.8e+01 s.\n"
     ]
    },
    {
     "name": "stderr",
     "output_type": "stream",
     "text": [
      "100%|██████████| 6/6 [01:02<00:00, 10.40s/it]\n",
      " 26%|██▌       | 8/31 [14:25<37:22, 97.49s/it] "
     ]
    },
    {
     "name": "stdout",
     "output_type": "stream",
     "text": [
      "`gtol` termination condition is satisfied.\n",
      "Number of iterations: 189, function evaluations: 1827, CG iterations: 1273, optimality: 7.04e-09, constraint violation: 0.00e+00, execution time: 1.1e+01 s.\n"
     ]
    },
    {
     "name": "stderr",
     "output_type": "stream",
     "text": []
    },
    {
     "name": "stdout",
     "output_type": "stream",
     "text": [
      "`gtol` termination condition is satisfied.\n",
      "Number of iterations: 101, function evaluations: 2121, CG iterations: 621, optimality: 4.95e-09, constraint violation: 0.00e+00, execution time: 1.2e+01 s.\n"
     ]
    },
    {
     "name": "stderr",
     "output_type": "stream",
     "text": []
    },
    {
     "name": "stdout",
     "output_type": "stream",
     "text": [
      "The maximum number of function evaluations is exceeded.\n",
      "Number of iterations: 1000, function evaluations: 15477, CG iterations: 8787, optimality: 9.46e-03, constraint violation: 0.00e+00, execution time: 9e+01 s.\n"
     ]
    },
    {
     "name": "stderr",
     "output_type": "stream",
     "text": []
    },
    {
     "name": "stdout",
     "output_type": "stream",
     "text": [
      "The maximum number of function evaluations is exceeded.\n",
      "Number of iterations: 1000, function evaluations: 42, CG iterations: 2997, optimality: 4.83e-02, constraint violation: 0.00e+00, execution time: 0.87 s.\n"
     ]
    },
    {
     "name": "stderr",
     "output_type": "stream",
     "text": []
    },
    {
     "name": "stdout",
     "output_type": "stream",
     "text": [
      "The maximum number of function evaluations is exceeded.\n",
      "Number of iterations: 1000, function evaluations: 42, CG iterations: 2997, optimality: 4.83e-02, constraint violation: 0.00e+00, execution time: 0.88 s.\n"
     ]
    },
    {
     "name": "stderr",
     "output_type": "stream",
     "text": []
    },
    {
     "name": "stdout",
     "output_type": "stream",
     "text": [
      "`gtol` termination condition is satisfied.\n",
      "Number of iterations: 245, function evaluations: 4977, CG iterations: 1965, optimality: 4.84e-09, constraint violation: 0.00e+00, execution time: 2.9e+01 s.\n"
     ]
    },
    {
     "name": "stderr",
     "output_type": "stream",
     "text": [
      "100%|██████████| 6/6 [04:20<00:00, 43.46s/it]\n",
      " 29%|██▉       | 9/31 [18:48<54:42, 149.19s/it]"
     ]
    },
    {
     "name": "stdout",
     "output_type": "stream",
     "text": [
      "The maximum number of function evaluations is exceeded.\n",
      "Number of iterations: 1000, function evaluations: 21420, CG iterations: 2360, optimality: 1.89e-03, constraint violation: 0.00e+00, execution time: 1.3e+02 s.\n"
     ]
    },
    {
     "name": "stderr",
     "output_type": "stream",
     "text": []
    },
    {
     "name": "stdout",
     "output_type": "stream",
     "text": [
      "The maximum number of function evaluations is exceeded.\n",
      "Number of iterations: 1000, function evaluations: 21399, CG iterations: 6280, optimality: 1.42e-03, constraint violation: 0.00e+00, execution time: 1.2e+02 s.\n"
     ]
    },
    {
     "name": "stderr",
     "output_type": "stream",
     "text": []
    },
    {
     "name": "stdout",
     "output_type": "stream",
     "text": [
      "`gtol` termination condition is satisfied.\n",
      "Number of iterations: 35, function evaluations: 609, CG iterations: 172, optimality: 4.84e-09, constraint violation: 0.00e+00, execution time:  3.3 s.\n"
     ]
    },
    {
     "name": "stderr",
     "output_type": "stream",
     "text": []
    },
    {
     "name": "stdout",
     "output_type": "stream",
     "text": [
      "The maximum number of function evaluations is exceeded.\n",
      "Number of iterations: 1000, function evaluations: 42, CG iterations: 2997, optimality: 4.83e-02, constraint violation: 0.00e+00, execution time: 0.87 s.\n"
     ]
    },
    {
     "name": "stderr",
     "output_type": "stream",
     "text": []
    },
    {
     "name": "stdout",
     "output_type": "stream",
     "text": [
      "The maximum number of function evaluations is exceeded.\n",
      "Number of iterations: 1000, function evaluations: 42, CG iterations: 2997, optimality: 4.83e-02, constraint violation: 0.00e+00, execution time: 0.91 s.\n"
     ]
    },
    {
     "name": "stderr",
     "output_type": "stream",
     "text": []
    },
    {
     "name": "stdout",
     "output_type": "stream",
     "text": [
      "`gtol` termination condition is satisfied.\n",
      "Number of iterations: 146, function evaluations: 2961, CG iterations: 832, optimality: 4.84e-09, constraint violation: 0.00e+00, execution time: 1.7e+01 s.\n"
     ]
    },
    {
     "name": "stderr",
     "output_type": "stream",
     "text": [
      "100%|██████████| 6/6 [04:30<00:00, 45.11s/it]\n",
      " 32%|███▏      | 10/31 [23:20<1:05:33, 187.32s/it]"
     ]
    },
    {
     "name": "stdout",
     "output_type": "stream",
     "text": [
      "The maximum number of function evaluations is exceeded.\n",
      "Number of iterations: 1000, function evaluations: 21609, CG iterations: 2748, optimality: 3.78e-04, constraint violation: 0.00e+00, execution time: 1.3e+02 s.\n"
     ]
    },
    {
     "name": "stderr",
     "output_type": "stream",
     "text": []
    },
    {
     "name": "stdout",
     "output_type": "stream",
     "text": [
      "`gtol` termination condition is satisfied.\n",
      "Number of iterations: 123, function evaluations: 2436, CG iterations: 394, optimality: 4.84e-09, constraint violation: 0.00e+00, execution time: 1.3e+01 s.\n"
     ]
    },
    {
     "name": "stderr",
     "output_type": "stream",
     "text": []
    },
    {
     "name": "stdout",
     "output_type": "stream",
     "text": [
      "`gtol` termination condition is satisfied.\n",
      "Number of iterations: 31, function evaluations: 462, CG iterations: 168, optimality: 4.84e-09, constraint violation: 0.00e+00, execution time:  2.5 s.\n"
     ]
    },
    {
     "name": "stderr",
     "output_type": "stream",
     "text": []
    },
    {
     "name": "stdout",
     "output_type": "stream",
     "text": [
      "The maximum number of function evaluations is exceeded.\n",
      "Number of iterations: 1000, function evaluations: 42, CG iterations: 2997, optimality: 4.83e-02, constraint violation: 0.00e+00, execution time: 0.85 s.\n"
     ]
    },
    {
     "name": "stderr",
     "output_type": "stream",
     "text": []
    },
    {
     "name": "stdout",
     "output_type": "stream",
     "text": [
      "The maximum number of function evaluations is exceeded.\n",
      "Number of iterations: 1000, function evaluations: 42, CG iterations: 2997, optimality: 4.83e-02, constraint violation: 0.00e+00, execution time: 0.85 s.\n"
     ]
    },
    {
     "name": "stderr",
     "output_type": "stream",
     "text": []
    },
    {
     "name": "stdout",
     "output_type": "stream",
     "text": [
      "`xtol` termination condition is satisfied.\n",
      "Number of iterations: 161, function evaluations: 3381, CG iterations: 1019, optimality: 9.88e-10, constraint violation: 2.10e-04, execution time: 1.9e+01 s.\n"
     ]
    },
    {
     "name": "stderr",
     "output_type": "stream",
     "text": [
      "100%|██████████| 6/6 [02:40<00:00, 26.80s/it]\n",
      " 35%|███▌      | 11/31 [26:03<59:56, 179.83s/it]  "
     ]
    },
    {
     "name": "stdout",
     "output_type": "stream",
     "text": [
      "The maximum number of function evaluations is exceeded.\n",
      "Number of iterations: 1000, function evaluations: 21420, CG iterations: 3605, optimality: 1.90e-03, constraint violation: 0.00e+00, execution time: 1.2e+02 s.\n"
     ]
    },
    {
     "name": "stderr",
     "output_type": "stream",
     "text": []
    },
    {
     "name": "stdout",
     "output_type": "stream",
     "text": [
      "`xtol` termination condition is satisfied.\n",
      "Number of iterations: 186, function evaluations: 3906, CG iterations: 1003, optimality: 5.44e+05, constraint violation: 0.00e+00, execution time: 2.2e+01 s.\n"
     ]
    },
    {
     "name": "stderr",
     "output_type": "stream",
     "text": []
    },
    {
     "name": "stdout",
     "output_type": "stream",
     "text": [
      "`gtol` termination condition is satisfied.\n",
      "Number of iterations: 33, function evaluations: 525, CG iterations: 184, optimality: 4.84e-09, constraint violation: 0.00e+00, execution time:  2.8 s.\n"
     ]
    },
    {
     "name": "stderr",
     "output_type": "stream",
     "text": []
    },
    {
     "name": "stdout",
     "output_type": "stream",
     "text": [
      "The maximum number of function evaluations is exceeded.\n",
      "Number of iterations: 1000, function evaluations: 42, CG iterations: 2997, optimality: 4.83e-02, constraint violation: 0.00e+00, execution time: 0.85 s.\n"
     ]
    },
    {
     "name": "stderr",
     "output_type": "stream",
     "text": []
    },
    {
     "name": "stdout",
     "output_type": "stream",
     "text": [
      "The maximum number of function evaluations is exceeded.\n",
      "Number of iterations: 1000, function evaluations: 42, CG iterations: 2997, optimality: 4.83e-02, constraint violation: 0.00e+00, execution time: 0.85 s.\n"
     ]
    },
    {
     "name": "stderr",
     "output_type": "stream",
     "text": []
    },
    {
     "name": "stdout",
     "output_type": "stream",
     "text": [
      "`xtol` termination condition is satisfied.\n",
      "Number of iterations: 153, function evaluations: 3213, CG iterations: 998, optimality: 9.80e-10, constraint violation: 1.92e-04, execution time: 1.8e+01 s.\n"
     ]
    },
    {
     "name": "stderr",
     "output_type": "stream",
     "text": [
      "100%|██████████| 6/6 [01:16<00:00, 12.80s/it]\n",
      " 39%|███▊      | 12/31 [27:22<47:12, 149.10s/it]"
     ]
    },
    {
     "name": "stdout",
     "output_type": "stream",
     "text": [
      "`xtol` termination condition is satisfied.\n",
      "Number of iterations: 170, function evaluations: 5670, CG iterations: 854, optimality: 5.21e-07, constraint violation: 0.00e+00, execution time: 3.2e+01 s.\n"
     ]
    },
    {
     "name": "stderr",
     "output_type": "stream",
     "text": []
    },
    {
     "name": "stdout",
     "output_type": "stream",
     "text": [
      "`gtol` termination condition is satisfied.\n",
      "Number of iterations: 285, function evaluations: 6300, CG iterations: 2850, optimality: 4.84e-09, constraint violation: 0.00e+00, execution time: 3.7e+01 s.\n"
     ]
    },
    {
     "name": "stderr",
     "output_type": "stream",
     "text": []
    },
    {
     "name": "stdout",
     "output_type": "stream",
     "text": [
      "`gtol` termination condition is satisfied.\n",
      "Number of iterations: 104, function evaluations: 1995, CG iterations: 1194, optimality: 4.84e-09, constraint violation: 0.00e+00, execution time: 1.2e+01 s.\n"
     ]
    },
    {
     "name": "stderr",
     "output_type": "stream",
     "text": []
    },
    {
     "name": "stdout",
     "output_type": "stream",
     "text": [
      "The maximum number of function evaluations is exceeded.\n",
      "Number of iterations: 1000, function evaluations: 42, CG iterations: 2997, optimality: 4.83e-02, constraint violation: 0.00e+00, execution time: 0.93 s.\n"
     ]
    },
    {
     "name": "stderr",
     "output_type": "stream",
     "text": []
    },
    {
     "name": "stdout",
     "output_type": "stream",
     "text": [
      "The maximum number of function evaluations is exceeded.\n",
      "Number of iterations: 1000, function evaluations: 42, CG iterations: 2997, optimality: 4.83e-02, constraint violation: 0.00e+00, execution time: 0.86 s.\n"
     ]
    },
    {
     "name": "stderr",
     "output_type": "stream",
     "text": []
    },
    {
     "name": "stdout",
     "output_type": "stream",
     "text": [
      "`xtol` termination condition is satisfied.\n",
      "Number of iterations: 136, function evaluations: 2940, CG iterations: 782, optimality: 2.18e-07, constraint violation: 5.55e-17, execution time: 1.6e+01 s.\n"
     ]
    },
    {
     "name": "stderr",
     "output_type": "stream",
     "text": [
      "100%|██████████| 6/6 [01:40<00:00, 16.67s/it]\n",
      " 42%|████▏     | 13/31 [29:04<40:27, 134.85s/it]"
     ]
    },
    {
     "name": "stdout",
     "output_type": "stream",
     "text": [
      "`xtol` termination condition is satisfied.\n",
      "Number of iterations: 195, function evaluations: 5670, CG iterations: 1416, optimality: 8.77e-07, constraint violation: 0.00e+00, execution time: 3.2e+01 s.\n"
     ]
    },
    {
     "name": "stderr",
     "output_type": "stream",
     "text": []
    },
    {
     "name": "stdout",
     "output_type": "stream",
     "text": [
      "`gtol` termination condition is satisfied.\n",
      "Number of iterations: 246, function evaluations: 5166, CG iterations: 1725, optimality: 9.86e-09, constraint violation: 0.00e+00, execution time: 3e+01 s.\n"
     ]
    },
    {
     "name": "stderr",
     "output_type": "stream",
     "text": []
    },
    {
     "name": "stdout",
     "output_type": "stream",
     "text": [
      "`gtol` termination condition is satisfied.\n",
      "Number of iterations: 29, function evaluations: 399, CG iterations: 83, optimality: 4.84e-09, constraint violation: 0.00e+00, execution time:  2.2 s.\n"
     ]
    },
    {
     "name": "stderr",
     "output_type": "stream",
     "text": []
    },
    {
     "name": "stdout",
     "output_type": "stream",
     "text": [
      "The maximum number of function evaluations is exceeded.\n",
      "Number of iterations: 1000, function evaluations: 42, CG iterations: 2997, optimality: 4.83e-02, constraint violation: 0.00e+00, execution time:  0.9 s.\n"
     ]
    },
    {
     "name": "stderr",
     "output_type": "stream",
     "text": []
    },
    {
     "name": "stdout",
     "output_type": "stream",
     "text": [
      "The maximum number of function evaluations is exceeded.\n",
      "Number of iterations: 1000, function evaluations: 42, CG iterations: 2997, optimality: 4.83e-02, constraint violation: 0.00e+00, execution time:  0.9 s.\n"
     ]
    },
    {
     "name": "stderr",
     "output_type": "stream",
     "text": []
    },
    {
     "name": "stdout",
     "output_type": "stream",
     "text": [
      "`gtol` termination condition is satisfied.\n",
      "Number of iterations: 140, function evaluations: 2814, CG iterations: 1201, optimality: 4.84e-09, constraint violation: 0.00e+00, execution time: 1.6e+01 s.\n"
     ]
    },
    {
     "name": "stderr",
     "output_type": "stream",
     "text": [
      "100%|██████████| 6/6 [01:18<00:00, 13.03s/it]\n",
      " 45%|████▌     | 14/31 [30:24<33:31, 118.35s/it]"
     ]
    },
    {
     "name": "stdout",
     "output_type": "stream",
     "text": [
      "`xtol` termination condition is satisfied.\n",
      "Number of iterations: 133, function evaluations: 4893, CG iterations: 598, optimality: 2.74e-07, constraint violation: 0.00e+00, execution time: 2.7e+01 s.\n"
     ]
    },
    {
     "name": "stderr",
     "output_type": "stream",
     "text": []
    },
    {
     "name": "stdout",
     "output_type": "stream",
     "text": [
      "`gtol` termination condition is satisfied.\n",
      "Number of iterations: 231, function evaluations: 4851, CG iterations: 2133, optimality: 4.76e-09, constraint violation: 0.00e+00, execution time: 2.7e+01 s.\n"
     ]
    },
    {
     "name": "stderr",
     "output_type": "stream",
     "text": []
    },
    {
     "name": "stdout",
     "output_type": "stream",
     "text": [
      "`gtol` termination condition is satisfied.\n",
      "Number of iterations: 103, function evaluations: 378, CG iterations: 138, optimality: 4.84e-09, constraint violation: 0.00e+00, execution time:  2.1 s.\n"
     ]
    },
    {
     "name": "stderr",
     "output_type": "stream",
     "text": []
    },
    {
     "name": "stdout",
     "output_type": "stream",
     "text": [
      "The maximum number of function evaluations is exceeded.\n",
      "Number of iterations: 1000, function evaluations: 42, CG iterations: 2997, optimality: 4.83e-02, constraint violation: 0.00e+00, execution time: 0.88 s.\n"
     ]
    },
    {
     "name": "stderr",
     "output_type": "stream",
     "text": []
    },
    {
     "name": "stdout",
     "output_type": "stream",
     "text": [
      "The maximum number of function evaluations is exceeded.\n",
      "Number of iterations: 1000, function evaluations: 42, CG iterations: 2997, optimality: 4.83e-02, constraint violation: 0.00e+00, execution time: 0.89 s.\n"
     ]
    },
    {
     "name": "stderr",
     "output_type": "stream",
     "text": []
    },
    {
     "name": "stdout",
     "output_type": "stream",
     "text": [
      "`gtol` termination condition is satisfied.\n",
      "Number of iterations: 157, function evaluations: 3528, CG iterations: 2022, optimality: 4.84e-09, constraint violation: 0.00e+00, execution time: 2e+01 s.\n"
     ]
    },
    {
     "name": "stderr",
     "output_type": "stream",
     "text": [
      "100%|██████████| 6/6 [01:02<00:00, 10.46s/it]\n",
      " 48%|████▊     | 15/31 [31:29<27:14, 102.18s/it]"
     ]
    },
    {
     "name": "stdout",
     "output_type": "stream",
     "text": [
      "`gtol` termination condition is satisfied.\n",
      "Number of iterations: 85, function evaluations: 1827, CG iterations: 1115, optimality: 4.84e-09, constraint violation: 0.00e+00, execution time: 1.1e+01 s.\n"
     ]
    },
    {
     "name": "stderr",
     "output_type": "stream",
     "text": []
    },
    {
     "name": "stdout",
     "output_type": "stream",
     "text": [
      "The maximum number of function evaluations is exceeded.\n",
      "Number of iterations: 1000, function evaluations: 21000, CG iterations: 4025, optimality: 7.59e-05, constraint violation: 7.26e-03, execution time: 1.2e+02 s.\n"
     ]
    },
    {
     "name": "stderr",
     "output_type": "stream",
     "text": []
    },
    {
     "name": "stdout",
     "output_type": "stream",
     "text": [
      "The maximum number of function evaluations is exceeded.\n",
      "Number of iterations: 1000, function evaluations: 19047, CG iterations: 11597, optimality: 9.46e-03, constraint violation: 0.00e+00, execution time: 1.1e+02 s.\n"
     ]
    },
    {
     "name": "stderr",
     "output_type": "stream",
     "text": []
    },
    {
     "name": "stdout",
     "output_type": "stream",
     "text": [
      "The maximum number of function evaluations is exceeded.\n",
      "Number of iterations: 1000, function evaluations: 42, CG iterations: 2997, optimality: 4.83e-02, constraint violation: 0.00e+00, execution time:  0.9 s.\n"
     ]
    },
    {
     "name": "stderr",
     "output_type": "stream",
     "text": []
    },
    {
     "name": "stdout",
     "output_type": "stream",
     "text": [
      "The maximum number of function evaluations is exceeded.\n",
      "Number of iterations: 1000, function evaluations: 42, CG iterations: 2997, optimality: 4.83e-02, constraint violation: 0.00e+00, execution time: 0.91 s.\n"
     ]
    },
    {
     "name": "stderr",
     "output_type": "stream",
     "text": []
    },
    {
     "name": "stdout",
     "output_type": "stream",
     "text": [
      "`xtol` termination condition is satisfied.\n",
      "Number of iterations: 317, function evaluations: 6657, CG iterations: 2821, optimality: 9.40e-06, constraint violation: 1.11e-04, execution time: 3.8e+01 s.\n"
     ]
    },
    {
     "name": "stderr",
     "output_type": "stream",
     "text": [
      "100%|██████████| 6/6 [04:50<00:00, 48.37s/it]\n",
      " 52%|█████▏    | 16/31 [36:21<39:50, 159.40s/it]"
     ]
    },
    {
     "name": "stdout",
     "output_type": "stream",
     "text": [
      "`xtol` termination condition is satisfied.\n",
      "Number of iterations: 182, function evaluations: 2331, CG iterations: 1345, optimality: 1.94e-08, constraint violation: 0.00e+00, execution time: 1.3e+01 s.\n"
     ]
    },
    {
     "name": "stderr",
     "output_type": "stream",
     "text": []
    },
    {
     "name": "stdout",
     "output_type": "stream",
     "text": [
      "`gtol` termination condition is satisfied.\n",
      "Number of iterations: 188, function evaluations: 3759, CG iterations: 663, optimality: 4.84e-09, constraint violation: 0.00e+00, execution time: 2.1e+01 s.\n"
     ]
    },
    {
     "name": "stderr",
     "output_type": "stream",
     "text": []
    },
    {
     "name": "stdout",
     "output_type": "stream",
     "text": [
      "The maximum number of function evaluations is exceeded.\n",
      "Number of iterations: 1000, function evaluations: 16863, CG iterations: 2186, optimality: 1.89e-03, constraint violation: 0.00e+00, execution time: 9.4e+01 s.\n"
     ]
    },
    {
     "name": "stderr",
     "output_type": "stream",
     "text": []
    },
    {
     "name": "stdout",
     "output_type": "stream",
     "text": [
      "The maximum number of function evaluations is exceeded.\n",
      "Number of iterations: 1000, function evaluations: 42, CG iterations: 2997, optimality: 4.83e-02, constraint violation: 0.00e+00, execution time: 0.88 s.\n"
     ]
    },
    {
     "name": "stderr",
     "output_type": "stream",
     "text": []
    },
    {
     "name": "stdout",
     "output_type": "stream",
     "text": [
      "The maximum number of function evaluations is exceeded.\n",
      "Number of iterations: 1000, function evaluations: 42, CG iterations: 2997, optimality: 4.83e-02, constraint violation: 0.00e+00, execution time: 0.89 s.\n"
     ]
    },
    {
     "name": "stderr",
     "output_type": "stream",
     "text": []
    },
    {
     "name": "stdout",
     "output_type": "stream",
     "text": [
      "`gtol` termination condition is satisfied.\n",
      "Number of iterations: 101, function evaluations: 2121, CG iterations: 574, optimality: 4.95e-09, constraint violation: 0.00e+00, execution time: 1.2e+01 s.\n"
     ]
    },
    {
     "name": "stderr",
     "output_type": "stream",
     "text": [
      "100%|██████████| 6/6 [02:12<00:00, 22.10s/it]\n",
      " 55%|█████▍    | 17/31 [38:36<35:27, 151.96s/it]"
     ]
    },
    {
     "name": "stdout",
     "output_type": "stream",
     "text": [
      "`gtol` termination condition is satisfied.\n",
      "Number of iterations: 33, function evaluations: 525, CG iterations: 221, optimality: 4.84e-09, constraint violation: 0.00e+00, execution time:  2.9 s.\n"
     ]
    },
    {
     "name": "stderr",
     "output_type": "stream",
     "text": []
    },
    {
     "name": "stdout",
     "output_type": "stream",
     "text": [
      "`gtol` termination condition is satisfied.\n",
      "Number of iterations: 110, function evaluations: 2184, CG iterations: 1199, optimality: 4.84e-09, constraint violation: 0.00e+00, execution time: 1.2e+01 s.\n"
     ]
    },
    {
     "name": "stderr",
     "output_type": "stream",
     "text": []
    },
    {
     "name": "stdout",
     "output_type": "stream",
     "text": [
      "The maximum number of function evaluations is exceeded.\n",
      "Number of iterations: 1000, function evaluations: 21630, CG iterations: 5015, optimality: 3.78e-04, constraint violation: 0.00e+00, execution time: 1.2e+02 s.\n"
     ]
    },
    {
     "name": "stderr",
     "output_type": "stream",
     "text": []
    },
    {
     "name": "stdout",
     "output_type": "stream",
     "text": [
      "The maximum number of function evaluations is exceeded.\n",
      "Number of iterations: 1000, function evaluations: 42, CG iterations: 2997, optimality: 4.83e-02, constraint violation: 0.00e+00, execution time: 0.86 s.\n"
     ]
    },
    {
     "name": "stderr",
     "output_type": "stream",
     "text": []
    },
    {
     "name": "stdout",
     "output_type": "stream",
     "text": [
      "The maximum number of function evaluations is exceeded.\n",
      "Number of iterations: 1000, function evaluations: 42, CG iterations: 2997, optimality: 4.83e-02, constraint violation: 0.00e+00, execution time: 0.85 s.\n"
     ]
    },
    {
     "name": "stderr",
     "output_type": "stream",
     "text": []
    },
    {
     "name": "stdout",
     "output_type": "stream",
     "text": [
      "`gtol` termination condition is satisfied.\n",
      "Number of iterations: 101, function evaluations: 2121, CG iterations: 727, optimality: 4.95e-09, constraint violation: 0.00e+00, execution time: 1.2e+01 s.\n"
     ]
    },
    {
     "name": "stderr",
     "output_type": "stream",
     "text": [
      "100%|██████████| 6/6 [02:41<00:00, 26.96s/it]\n",
      " 58%|█████▊    | 18/31 [41:20<33:41, 155.51s/it]"
     ]
    },
    {
     "name": "stdout",
     "output_type": "stream",
     "text": [
      "`xtol` termination condition is satisfied.\n",
      "Number of iterations: 147, function evaluations: 1911, CG iterations: 897, optimality: 2.68e-07, constraint violation: 0.00e+00, execution time: 1.1e+01 s.\n"
     ]
    },
    {
     "name": "stderr",
     "output_type": "stream",
     "text": []
    },
    {
     "name": "stdout",
     "output_type": "stream",
     "text": [
      "`gtol` termination condition is satisfied.\n",
      "Number of iterations: 195, function evaluations: 3969, CG iterations: 2230, optimality: 4.84e-09, constraint violation: 0.00e+00, execution time: 2.2e+01 s.\n"
     ]
    },
    {
     "name": "stderr",
     "output_type": "stream",
     "text": []
    },
    {
     "name": "stdout",
     "output_type": "stream",
     "text": [
      "`gtol` termination condition is satisfied.\n",
      "Number of iterations: 30, function evaluations: 483, CG iterations: 159, optimality: 4.84e-09, constraint violation: 0.00e+00, execution time:  2.6 s.\n"
     ]
    },
    {
     "name": "stderr",
     "output_type": "stream",
     "text": []
    },
    {
     "name": "stdout",
     "output_type": "stream",
     "text": [
      "The maximum number of function evaluations is exceeded.\n",
      "Number of iterations: 1000, function evaluations: 42, CG iterations: 2997, optimality: 4.83e-02, constraint violation: 0.00e+00, execution time: 0.86 s.\n"
     ]
    },
    {
     "name": "stderr",
     "output_type": "stream",
     "text": []
    },
    {
     "name": "stdout",
     "output_type": "stream",
     "text": [
      "The maximum number of function evaluations is exceeded.\n",
      "Number of iterations: 1000, function evaluations: 42, CG iterations: 2997, optimality: 4.83e-02, constraint violation: 0.00e+00, execution time: 0.87 s.\n"
     ]
    },
    {
     "name": "stderr",
     "output_type": "stream",
     "text": []
    },
    {
     "name": "stdout",
     "output_type": "stream",
     "text": [
      "`gtol` termination condition is satisfied.\n",
      "Number of iterations: 101, function evaluations: 2121, CG iterations: 533, optimality: 4.95e-09, constraint violation: 0.00e+00, execution time: 1.2e+01 s.\n"
     ]
    },
    {
     "name": "stderr",
     "output_type": "stream",
     "text": [
      "100%|██████████| 6/6 [01:06<00:00, 11.09s/it]\n",
      " 61%|██████▏   | 19/31 [42:28<25:52, 129.40s/it]"
     ]
    },
    {
     "name": "stdout",
     "output_type": "stream",
     "text": [
      "`xtol` termination condition is satisfied.\n",
      "Number of iterations: 174, function evaluations: 5019, CG iterations: 674, optimality: 2.19e-07, constraint violation: 0.00e+00, execution time: 2.8e+01 s.\n"
     ]
    },
    {
     "name": "stderr",
     "output_type": "stream",
     "text": []
    },
    {
     "name": "stdout",
     "output_type": "stream",
     "text": [
      "`xtol` termination condition is satisfied.\n",
      "Number of iterations: 133, function evaluations: 2793, CG iterations: 1424, optimality: 2.50e+05, constraint violation: 9.59e-06, execution time: 1.5e+01 s.\n"
     ]
    },
    {
     "name": "stderr",
     "output_type": "stream",
     "text": []
    },
    {
     "name": "stdout",
     "output_type": "stream",
     "text": [
      "`gtol` termination condition is satisfied.\n",
      "Number of iterations: 78, function evaluations: 1806, CG iterations: 821, optimality: 4.84e-09, constraint violation: 0.00e+00, execution time:  9.9 s.\n"
     ]
    },
    {
     "name": "stderr",
     "output_type": "stream",
     "text": []
    },
    {
     "name": "stdout",
     "output_type": "stream",
     "text": [
      "The maximum number of function evaluations is exceeded.\n",
      "Number of iterations: 1000, function evaluations: 42, CG iterations: 2997, optimality: 4.83e-02, constraint violation: 0.00e+00, execution time: 0.86 s.\n"
     ]
    },
    {
     "name": "stderr",
     "output_type": "stream",
     "text": []
    },
    {
     "name": "stdout",
     "output_type": "stream",
     "text": [
      "The maximum number of function evaluations is exceeded.\n",
      "Number of iterations: 1000, function evaluations: 42, CG iterations: 2997, optimality: 4.83e-02, constraint violation: 0.00e+00, execution time: 0.86 s.\n"
     ]
    },
    {
     "name": "stderr",
     "output_type": "stream",
     "text": []
    },
    {
     "name": "stdout",
     "output_type": "stream",
     "text": [
      "`gtol` termination condition is satisfied.\n",
      "Number of iterations: 478, function evaluations: 10059, CG iterations: 3810, optimality: 4.84e-09, constraint violation: 0.00e+00, execution time: 5.6e+01 s.\n"
     ]
    },
    {
     "name": "stderr",
     "output_type": "stream",
     "text": [
      "100%|██████████| 6/6 [01:41<00:00, 16.95s/it]\n",
      " 65%|██████▍   | 20/31 [44:12<22:18, 121.66s/it]"
     ]
    },
    {
     "name": "stdout",
     "output_type": "stream",
     "text": [
      "`xtol` termination condition is satisfied.\n",
      "Number of iterations: 244, function evaluations: 3255, CG iterations: 716, optimality: 3.50e-07, constraint violation: 0.00e+00, execution time: 1.8e+01 s.\n"
     ]
    },
    {
     "name": "stderr",
     "output_type": "stream",
     "text": []
    },
    {
     "name": "stdout",
     "output_type": "stream",
     "text": [
      "`gtol` termination condition is satisfied.\n",
      "Number of iterations: 204, function evaluations: 4284, CG iterations: 2105, optimality: 8.32e-09, constraint violation: 0.00e+00, execution time: 2.4e+01 s.\n"
     ]
    },
    {
     "name": "stderr",
     "output_type": "stream",
     "text": []
    },
    {
     "name": "stdout",
     "output_type": "stream",
     "text": [
      "`gtol` termination condition is satisfied.\n",
      "Number of iterations: 29, function evaluations: 399, CG iterations: 83, optimality: 4.84e-09, constraint violation: 0.00e+00, execution time:  2.1 s.\n"
     ]
    },
    {
     "name": "stderr",
     "output_type": "stream",
     "text": []
    },
    {
     "name": "stdout",
     "output_type": "stream",
     "text": [
      "The maximum number of function evaluations is exceeded.\n",
      "Number of iterations: 1000, function evaluations: 42, CG iterations: 2997, optimality: 4.83e-02, constraint violation: 0.00e+00, execution time: 0.86 s.\n"
     ]
    },
    {
     "name": "stderr",
     "output_type": "stream",
     "text": []
    },
    {
     "name": "stdout",
     "output_type": "stream",
     "text": [
      "The maximum number of function evaluations is exceeded.\n",
      "Number of iterations: 1000, function evaluations: 42, CG iterations: 2997, optimality: 4.83e-02, constraint violation: 0.00e+00, execution time: 0.86 s.\n"
     ]
    },
    {
     "name": "stderr",
     "output_type": "stream",
     "text": []
    },
    {
     "name": "stdout",
     "output_type": "stream",
     "text": [
      "`gtol` termination condition is satisfied.\n",
      "Number of iterations: 101, function evaluations: 2121, CG iterations: 754, optimality: 4.95e-09, constraint violation: 0.00e+00, execution time: 1.2e+01 s.\n"
     ]
    },
    {
     "name": "stderr",
     "output_type": "stream",
     "text": [
      "100%|██████████| 6/6 [00:45<00:00,  7.58s/it]\n",
      " 68%|██████▊   | 21/31 [44:59<16:33, 99.40s/it] "
     ]
    },
    {
     "name": "stdout",
     "output_type": "stream",
     "text": [
      "`xtol` termination condition is satisfied.\n",
      "Number of iterations: 135, function evaluations: 987, CG iterations: 562, optimality: 2.58e-07, constraint violation: 0.00e+00, execution time:  5.5 s.\n"
     ]
    },
    {
     "name": "stderr",
     "output_type": "stream",
     "text": []
    },
    {
     "name": "stdout",
     "output_type": "stream",
     "text": [
      "`gtol` termination condition is satisfied.\n",
      "Number of iterations: 42, function evaluations: 714, CG iterations: 239, optimality: 4.84e-09, constraint violation: 0.00e+00, execution time:  4.0 s.\n"
     ]
    },
    {
     "name": "stderr",
     "output_type": "stream",
     "text": []
    },
    {
     "name": "stdout",
     "output_type": "stream",
     "text": [
      "The maximum number of function evaluations is exceeded.\n",
      "Number of iterations: 1000, function evaluations: 21588, CG iterations: 1627, optimality: 9.46e-03, constraint violation: 0.00e+00, execution time: 1.2e+02 s.\n"
     ]
    },
    {
     "name": "stderr",
     "output_type": "stream",
     "text": []
    },
    {
     "name": "stdout",
     "output_type": "stream",
     "text": [
      "The maximum number of function evaluations is exceeded.\n",
      "Number of iterations: 1000, function evaluations: 42, CG iterations: 2997, optimality: 4.83e-02, constraint violation: 0.00e+00, execution time:  0.9 s.\n"
     ]
    },
    {
     "name": "stderr",
     "output_type": "stream",
     "text": []
    },
    {
     "name": "stdout",
     "output_type": "stream",
     "text": [
      "The maximum number of function evaluations is exceeded.\n",
      "Number of iterations: 1000, function evaluations: 42, CG iterations: 2997, optimality: 4.83e-02, constraint violation: 0.00e+00, execution time: 0.88 s.\n"
     ]
    },
    {
     "name": "stderr",
     "output_type": "stream",
     "text": []
    },
    {
     "name": "stdout",
     "output_type": "stream",
     "text": [
      "`gtol` termination condition is satisfied.\n",
      "Number of iterations: 244, function evaluations: 5334, CG iterations: 1477, optimality: 4.84e-09, constraint violation: 0.00e+00, execution time: 3.1e+01 s.\n"
     ]
    },
    {
     "name": "stderr",
     "output_type": "stream",
     "text": [
      "100%|██████████| 6/6 [02:49<00:00, 28.20s/it]\n",
      " 71%|███████   | 22/31 [47:51<18:08, 120.95s/it]"
     ]
    },
    {
     "name": "stdout",
     "output_type": "stream",
     "text": [
      "`gtol` termination condition is satisfied.\n",
      "Number of iterations: 136, function evaluations: 1260, CG iterations: 462, optimality: 7.09e-09, constraint violation: 0.00e+00, execution time:  7.2 s.\n"
     ]
    },
    {
     "name": "stderr",
     "output_type": "stream",
     "text": []
    },
    {
     "name": "stdout",
     "output_type": "stream",
     "text": [
      "`gtol` termination condition is satisfied.\n",
      "Number of iterations: 83, function evaluations: 1617, CG iterations: 825, optimality: 4.84e-09, constraint violation: 0.00e+00, execution time:  9.0 s.\n"
     ]
    },
    {
     "name": "stderr",
     "output_type": "stream",
     "text": []
    },
    {
     "name": "stdout",
     "output_type": "stream",
     "text": [
      "`xtol` termination condition is satisfied.\n",
      "Number of iterations: 281, function evaluations: 6657, CG iterations: 3256, optimality: 4.52e-08, constraint violation: 0.00e+00, execution time: 3.7e+01 s.\n"
     ]
    },
    {
     "name": "stderr",
     "output_type": "stream",
     "text": []
    },
    {
     "name": "stdout",
     "output_type": "stream",
     "text": [
      "The maximum number of function evaluations is exceeded.\n",
      "Number of iterations: 1000, function evaluations: 42, CG iterations: 2997, optimality: 4.83e-02, constraint violation: 0.00e+00, execution time: 0.87 s.\n"
     ]
    },
    {
     "name": "stderr",
     "output_type": "stream",
     "text": []
    },
    {
     "name": "stdout",
     "output_type": "stream",
     "text": [
      "The maximum number of function evaluations is exceeded.\n",
      "Number of iterations: 1000, function evaluations: 42, CG iterations: 2997, optimality: 4.83e-02, constraint violation: 0.00e+00, execution time: 0.86 s.\n"
     ]
    },
    {
     "name": "stderr",
     "output_type": "stream",
     "text": []
    },
    {
     "name": "stdout",
     "output_type": "stream",
     "text": [
      "`gtol` termination condition is satisfied.\n",
      "Number of iterations: 101, function evaluations: 2121, CG iterations: 288, optimality: 4.95e-09, constraint violation: 0.00e+00, execution time: 1.2e+01 s.\n"
     ]
    },
    {
     "name": "stderr",
     "output_type": "stream",
     "text": [
      "100%|██████████| 6/6 [01:29<00:00, 14.94s/it]\n",
      " 74%|███████▍  | 23/31 [49:22<14:57, 112.16s/it]"
     ]
    },
    {
     "name": "stdout",
     "output_type": "stream",
     "text": [
      "`xtol` termination condition is satisfied.\n",
      "Number of iterations: 151, function evaluations: 5082, CG iterations: 1691, optimality: 5.24e-07, constraint violation: 0.00e+00, execution time: 2.9e+01 s.\n"
     ]
    },
    {
     "name": "stderr",
     "output_type": "stream",
     "text": []
    },
    {
     "name": "stdout",
     "output_type": "stream",
     "text": [
      "The maximum number of function evaluations is exceeded.\n",
      "Number of iterations: 1000, function evaluations: 20958, CG iterations: 8899, optimality: 5.65e-05, constraint violation: 0.00e+00, execution time: 1.2e+02 s.\n"
     ]
    },
    {
     "name": "stderr",
     "output_type": "stream",
     "text": []
    },
    {
     "name": "stdout",
     "output_type": "stream",
     "text": [
      "`xtol` termination condition is satisfied.\n",
      "Number of iterations: 131, function evaluations: 4851, CG iterations: 880, optimality: 1.47e+06, constraint violation: 0.00e+00, execution time: 2.7e+01 s.\n"
     ]
    },
    {
     "name": "stderr",
     "output_type": "stream",
     "text": []
    },
    {
     "name": "stdout",
     "output_type": "stream",
     "text": [
      "The maximum number of function evaluations is exceeded.\n",
      "Number of iterations: 1000, function evaluations: 42, CG iterations: 2997, optimality: 4.83e-02, constraint violation: 0.00e+00, execution time: 0.87 s.\n"
     ]
    },
    {
     "name": "stderr",
     "output_type": "stream",
     "text": []
    },
    {
     "name": "stdout",
     "output_type": "stream",
     "text": [
      "The maximum number of function evaluations is exceeded.\n",
      "Number of iterations: 1000, function evaluations: 42, CG iterations: 2997, optimality: 4.83e-02, constraint violation: 0.00e+00, execution time: 0.87 s.\n"
     ]
    },
    {
     "name": "stderr",
     "output_type": "stream",
     "text": []
    },
    {
     "name": "stdout",
     "output_type": "stream",
     "text": [
      "`gtol` termination condition is satisfied.\n",
      "Number of iterations: 101, function evaluations: 2121, CG iterations: 653, optimality: 4.95e-09, constraint violation: 0.00e+00, execution time: 1.2e+01 s.\n"
     ]
    },
    {
     "name": "stderr",
     "output_type": "stream",
     "text": [
      "100%|██████████| 6/6 [02:57<00:00, 29.55s/it]\n",
      " 77%|███████▋  | 24/31 [52:22<15:26, 132.31s/it]"
     ]
    },
    {
     "name": "stdout",
     "output_type": "stream",
     "text": [
      "`xtol` termination condition is satisfied.\n",
      "Number of iterations: 168, function evaluations: 3570, CG iterations: 807, optimality: 2.61e-07, constraint violation: 0.00e+00, execution time: 2e+01 s.\n"
     ]
    },
    {
     "name": "stderr",
     "output_type": "stream",
     "text": []
    },
    {
     "name": "stdout",
     "output_type": "stream",
     "text": [
      "`gtol` termination condition is satisfied.\n",
      "Number of iterations: 25, function evaluations: 336, CG iterations: 110, optimality: 4.84e-09, constraint violation: 0.00e+00, execution time:  1.7 s.\n"
     ]
    },
    {
     "name": "stderr",
     "output_type": "stream",
     "text": []
    },
    {
     "name": "stdout",
     "output_type": "stream",
     "text": [
      "`xtol` termination condition is satisfied.\n",
      "Number of iterations: 274, function evaluations: 9597, CG iterations: 938, optimality: 3.17e-07, constraint violation: 0.00e+00, execution time: 5.3e+01 s.\n"
     ]
    },
    {
     "name": "stderr",
     "output_type": "stream",
     "text": []
    },
    {
     "name": "stdout",
     "output_type": "stream",
     "text": [
      "The maximum number of function evaluations is exceeded.\n",
      "Number of iterations: 1000, function evaluations: 42, CG iterations: 2997, optimality: 4.83e-02, constraint violation: 0.00e+00, execution time: 0.87 s.\n"
     ]
    },
    {
     "name": "stderr",
     "output_type": "stream",
     "text": []
    },
    {
     "name": "stdout",
     "output_type": "stream",
     "text": [
      "The maximum number of function evaluations is exceeded.\n",
      "Number of iterations: 1000, function evaluations: 42, CG iterations: 2997, optimality: 4.83e-02, constraint violation: 0.00e+00, execution time: 0.89 s.\n"
     ]
    },
    {
     "name": "stderr",
     "output_type": "stream",
     "text": []
    },
    {
     "name": "stdout",
     "output_type": "stream",
     "text": [
      "`xtol` termination condition is satisfied.\n",
      "Number of iterations: 121, function evaluations: 2541, CG iterations: 1401, optimality: 7.48e+05, constraint violation: 4.17e-12, execution time: 1.4e+01 s.\n"
     ]
    },
    {
     "name": "stderr",
     "output_type": "stream",
     "text": [
      "100%|██████████| 6/6 [01:43<00:00, 17.26s/it]\n",
      " 81%|████████  | 25/31 [54:07<12:25, 124.28s/it]"
     ]
    },
    {
     "name": "stdout",
     "output_type": "stream",
     "text": [
      "`xtol` termination condition is satisfied.\n",
      "Number of iterations: 182, function evaluations: 5880, CG iterations: 1226, optimality: 8.03e-07, constraint violation: 0.00e+00, execution time: 3.2e+01 s.\n"
     ]
    },
    {
     "name": "stderr",
     "output_type": "stream",
     "text": []
    },
    {
     "name": "stdout",
     "output_type": "stream",
     "text": [
      "`xtol` termination condition is satisfied.\n",
      "Number of iterations: 199, function evaluations: 4179, CG iterations: 2008, optimality: 1.46e-08, constraint violation: 0.00e+00, execution time: 2.3e+01 s.\n"
     ]
    },
    {
     "name": "stderr",
     "output_type": "stream",
     "text": []
    },
    {
     "name": "stdout",
     "output_type": "stream",
     "text": [
      "`gtol` termination condition is satisfied.\n",
      "Number of iterations: 29, function evaluations: 399, CG iterations: 65, optimality: 4.84e-09, constraint violation: 0.00e+00, execution time:  2.1 s.\n"
     ]
    },
    {
     "name": "stderr",
     "output_type": "stream",
     "text": []
    },
    {
     "name": "stdout",
     "output_type": "stream",
     "text": [
      "The maximum number of function evaluations is exceeded.\n",
      "Number of iterations: 1000, function evaluations: 42, CG iterations: 2997, optimality: 4.83e-02, constraint violation: 0.00e+00, execution time: 0.88 s.\n"
     ]
    },
    {
     "name": "stderr",
     "output_type": "stream",
     "text": []
    },
    {
     "name": "stdout",
     "output_type": "stream",
     "text": [
      "The maximum number of function evaluations is exceeded.\n",
      "Number of iterations: 1000, function evaluations: 42, CG iterations: 2997, optimality: 4.83e-02, constraint violation: 0.00e+00, execution time: 0.87 s.\n"
     ]
    },
    {
     "name": "stderr",
     "output_type": "stream",
     "text": []
    },
    {
     "name": "stdout",
     "output_type": "stream",
     "text": [
      "`gtol` termination condition is satisfied.\n",
      "Number of iterations: 506, function evaluations: 10626, CG iterations: 3179, optimality: 4.79e-09, constraint violation: 0.00e+00, execution time: 6e+01 s.\n"
     ]
    },
    {
     "name": "stderr",
     "output_type": "stream",
     "text": [
      "100%|██████████| 6/6 [01:30<00:00, 15.07s/it]\n",
      " 84%|████████▍ | 26/31 [55:40<09:33, 114.72s/it]"
     ]
    },
    {
     "name": "stdout",
     "output_type": "stream",
     "text": [
      "`gtol` termination condition is satisfied.\n",
      "Number of iterations: 29, function evaluations: 462, CG iterations: 129, optimality: 4.84e-09, constraint violation: 0.00e+00, execution time:  2.5 s.\n"
     ]
    },
    {
     "name": "stderr",
     "output_type": "stream",
     "text": []
    },
    {
     "name": "stdout",
     "output_type": "stream",
     "text": [
      "`xtol` termination condition is satisfied.\n",
      "Number of iterations: 149, function evaluations: 3129, CG iterations: 1636, optimality: 2.49e+05, constraint violation: 7.37e-06, execution time: 1.8e+01 s.\n"
     ]
    },
    {
     "name": "stderr",
     "output_type": "stream",
     "text": []
    },
    {
     "name": "stdout",
     "output_type": "stream",
     "text": [
      "`gtol` termination condition is satisfied.\n",
      "Number of iterations: 45, function evaluations: 1029, CG iterations: 374, optimality: 4.84e-09, constraint violation: 0.00e+00, execution time:  5.8 s.\n"
     ]
    },
    {
     "name": "stderr",
     "output_type": "stream",
     "text": []
    },
    {
     "name": "stdout",
     "output_type": "stream",
     "text": [
      "The maximum number of function evaluations is exceeded.\n",
      "Number of iterations: 1000, function evaluations: 42, CG iterations: 2997, optimality: 4.83e-02, constraint violation: 0.00e+00, execution time: 0.88 s.\n"
     ]
    },
    {
     "name": "stderr",
     "output_type": "stream",
     "text": []
    },
    {
     "name": "stdout",
     "output_type": "stream",
     "text": [
      "The maximum number of function evaluations is exceeded.\n",
      "Number of iterations: 1000, function evaluations: 42, CG iterations: 2997, optimality: 4.83e-02, constraint violation: 0.00e+00, execution time: 0.87 s.\n"
     ]
    },
    {
     "name": "stderr",
     "output_type": "stream",
     "text": []
    },
    {
     "name": "stdout",
     "output_type": "stream",
     "text": [
      "`gtol` termination condition is satisfied.\n",
      "Number of iterations: 32, function evaluations: 504, CG iterations: 175, optimality: 4.84e-09, constraint violation: 0.00e+00, execution time:  2.8 s.\n"
     ]
    },
    {
     "name": "stderr",
     "output_type": "stream",
     "text": [
      "100%|██████████| 6/6 [00:31<00:00,  5.22s/it]\n",
      " 87%|████████▋ | 27/31 [56:13<06:01, 90.29s/it] "
     ]
    },
    {
     "name": "stdout",
     "output_type": "stream",
     "text": [
      "`gtol` termination condition is satisfied.\n",
      "Number of iterations: 27, function evaluations: 399, CG iterations: 87, optimality: 4.84e-09, constraint violation: 0.00e+00, execution time:  2.2 s.\n"
     ]
    },
    {
     "name": "stderr",
     "output_type": "stream",
     "text": []
    },
    {
     "name": "stdout",
     "output_type": "stream",
     "text": [
      "`xtol` termination condition is satisfied.\n",
      "Number of iterations: 176, function evaluations: 1260, CG iterations: 1037, optimality: 5.44e-08, constraint violation: 0.00e+00, execution time:  7.0 s.\n"
     ]
    },
    {
     "name": "stderr",
     "output_type": "stream",
     "text": []
    },
    {
     "name": "stdout",
     "output_type": "stream",
     "text": [
      "`gtol` termination condition is satisfied.\n",
      "Number of iterations: 133, function evaluations: 1344, CG iterations: 491, optimality: 4.84e-09, constraint violation: 0.00e+00, execution time:  7.6 s.\n"
     ]
    },
    {
     "name": "stderr",
     "output_type": "stream",
     "text": []
    },
    {
     "name": "stdout",
     "output_type": "stream",
     "text": [
      "The maximum number of function evaluations is exceeded.\n",
      "Number of iterations: 1000, function evaluations: 42, CG iterations: 2997, optimality: 4.83e-02, constraint violation: 0.00e+00, execution time: 0.86 s.\n"
     ]
    },
    {
     "name": "stderr",
     "output_type": "stream",
     "text": []
    },
    {
     "name": "stdout",
     "output_type": "stream",
     "text": [
      "The maximum number of function evaluations is exceeded.\n",
      "Number of iterations: 1000, function evaluations: 42, CG iterations: 2997, optimality: 4.83e-02, constraint violation: 0.00e+00, execution time: 0.86 s.\n"
     ]
    },
    {
     "name": "stderr",
     "output_type": "stream",
     "text": []
    },
    {
     "name": "stdout",
     "output_type": "stream",
     "text": [
      "`gtol` termination condition is satisfied.\n",
      "Number of iterations: 169, function evaluations: 4326, CG iterations: 1739, optimality: 4.84e-09, constraint violation: 0.00e+00, execution time: 2.4e+01 s.\n"
     ]
    },
    {
     "name": "stderr",
     "output_type": "stream",
     "text": [
      "100%|██████████| 6/6 [00:50<00:00,  8.40s/it]\n",
      " 90%|█████████ | 28/31 [57:05<03:56, 78.93s/it]"
     ]
    },
    {
     "name": "stdout",
     "output_type": "stream",
     "text": [
      "`gtol` termination condition is satisfied.\n",
      "Number of iterations: 139, function evaluations: 1722, CG iterations: 864, optimality: 4.84e-09, constraint violation: 0.00e+00, execution time:  9.5 s.\n"
     ]
    },
    {
     "name": "stderr",
     "output_type": "stream",
     "text": []
    },
    {
     "name": "stdout",
     "output_type": "stream",
     "text": [
      "`gtol` termination condition is satisfied.\n",
      "Number of iterations: 25, function evaluations: 336, CG iterations: 83, optimality: 4.84e-09, constraint violation: 0.00e+00, execution time:  1.9 s.\n"
     ]
    },
    {
     "name": "stderr",
     "output_type": "stream",
     "text": []
    },
    {
     "name": "stdout",
     "output_type": "stream",
     "text": [
      "`gtol` termination condition is satisfied.\n",
      "Number of iterations: 110, function evaluations: 819, CG iterations: 347, optimality: 4.84e-09, constraint violation: 0.00e+00, execution time:  4.6 s.\n"
     ]
    },
    {
     "name": "stderr",
     "output_type": "stream",
     "text": []
    },
    {
     "name": "stdout",
     "output_type": "stream",
     "text": [
      "The maximum number of function evaluations is exceeded.\n",
      "Number of iterations: 1000, function evaluations: 42, CG iterations: 2997, optimality: 4.83e-02, constraint violation: 0.00e+00, execution time: 0.85 s.\n"
     ]
    },
    {
     "name": "stderr",
     "output_type": "stream",
     "text": []
    },
    {
     "name": "stdout",
     "output_type": "stream",
     "text": [
      "The maximum number of function evaluations is exceeded.\n",
      "Number of iterations: 1000, function evaluations: 42, CG iterations: 2997, optimality: 4.83e-02, constraint violation: 0.00e+00, execution time: 0.85 s.\n"
     ]
    },
    {
     "name": "stderr",
     "output_type": "stream",
     "text": []
    },
    {
     "name": "stdout",
     "output_type": "stream",
     "text": [
      "`gtol` termination condition is satisfied.\n",
      "Number of iterations: 206, function evaluations: 4641, CG iterations: 1622, optimality: 4.84e-09, constraint violation: 0.00e+00, execution time: 2.6e+01 s.\n"
     ]
    },
    {
     "name": "stderr",
     "output_type": "stream",
     "text": [
      "100%|██████████| 6/6 [00:41<00:00,  6.88s/it]\n",
      " 94%|█████████▎| 29/31 [57:49<02:16, 68.25s/it]"
     ]
    },
    {
     "name": "stdout",
     "output_type": "stream",
     "text": [
      "`xtol` termination condition is satisfied.\n",
      "Number of iterations: 166, function evaluations: 1197, CG iterations: 409, optimality: 3.90e-08, constraint violation: 0.00e+00, execution time:  6.6 s.\n"
     ]
    },
    {
     "name": "stderr",
     "output_type": "stream",
     "text": []
    },
    {
     "name": "stdout",
     "output_type": "stream",
     "text": [
      "`gtol` termination condition is satisfied.\n",
      "Number of iterations: 25, function evaluations: 336, CG iterations: 104, optimality: 4.84e-09, constraint violation: 0.00e+00, execution time:  1.9 s.\n"
     ]
    },
    {
     "name": "stderr",
     "output_type": "stream",
     "text": []
    },
    {
     "name": "stdout",
     "output_type": "stream",
     "text": [
      "`gtol` termination condition is satisfied.\n",
      "Number of iterations: 29, function evaluations: 441, CG iterations: 163, optimality: 4.84e-09, constraint violation: 0.00e+00, execution time:  2.5 s.\n"
     ]
    },
    {
     "name": "stderr",
     "output_type": "stream",
     "text": []
    },
    {
     "name": "stdout",
     "output_type": "stream",
     "text": [
      "The maximum number of function evaluations is exceeded.\n",
      "Number of iterations: 1000, function evaluations: 42, CG iterations: 2997, optimality: 4.83e-02, constraint violation: 0.00e+00, execution time: 0.92 s.\n"
     ]
    },
    {
     "name": "stderr",
     "output_type": "stream",
     "text": []
    },
    {
     "name": "stdout",
     "output_type": "stream",
     "text": [
      "The maximum number of function evaluations is exceeded.\n",
      "Number of iterations: 1000, function evaluations: 42, CG iterations: 2997, optimality: 4.83e-02, constraint violation: 0.00e+00, execution time:  0.9 s.\n"
     ]
    },
    {
     "name": "stderr",
     "output_type": "stream",
     "text": []
    },
    {
     "name": "stdout",
     "output_type": "stream",
     "text": [
      "`gtol` termination condition is satisfied.\n",
      "Number of iterations: 101, function evaluations: 2121, CG iterations: 693, optimality: 4.95e-09, constraint violation: 0.00e+00, execution time: 1.2e+01 s.\n"
     ]
    },
    {
     "name": "stderr",
     "output_type": "stream",
     "text": [
      "100%|██████████| 6/6 [02:21<00:00, 23.58s/it]\n",
      " 97%|█████████▋| 30/31 [1:00:12<01:30, 90.83s/it]"
     ]
    },
    {
     "name": "stdout",
     "output_type": "stream",
     "text": [
      "The maximum number of function evaluations is exceeded.\n",
      "Number of iterations: 1000, function evaluations: 21378, CG iterations: 3676, optimality: 3.78e-04, constraint violation: 0.00e+00, execution time: 1.2e+02 s.\n"
     ]
    },
    {
     "name": "stderr",
     "output_type": "stream",
     "text": []
    },
    {
     "name": "stdout",
     "output_type": "stream",
     "text": [
      "`gtol` termination condition is satisfied.\n",
      "Number of iterations: 36, function evaluations: 588, CG iterations: 206, optimality: 4.84e-09, constraint violation: 0.00e+00, execution time:  3.3 s.\n"
     ]
    },
    {
     "name": "stderr",
     "output_type": "stream",
     "text": []
    },
    {
     "name": "stdout",
     "output_type": "stream",
     "text": [
      "`gtol` termination condition is satisfied.\n",
      "Number of iterations: 60, function evaluations: 1470, CG iterations: 551, optimality: 4.84e-09, constraint violation: 0.00e+00, execution time:  8.5 s.\n"
     ]
    },
    {
     "name": "stderr",
     "output_type": "stream",
     "text": []
    },
    {
     "name": "stdout",
     "output_type": "stream",
     "text": [
      "The maximum number of function evaluations is exceeded.\n",
      "Number of iterations: 1000, function evaluations: 42, CG iterations: 2997, optimality: 4.83e-02, constraint violation: 0.00e+00, execution time:  0.9 s.\n"
     ]
    },
    {
     "name": "stderr",
     "output_type": "stream",
     "text": []
    },
    {
     "name": "stdout",
     "output_type": "stream",
     "text": [
      "The maximum number of function evaluations is exceeded.\n",
      "Number of iterations: 1000, function evaluations: 42, CG iterations: 2997, optimality: 4.83e-02, constraint violation: 0.00e+00, execution time: 0.93 s.\n"
     ]
    },
    {
     "name": "stderr",
     "output_type": "stream",
     "text": []
    },
    {
     "name": "stdout",
     "output_type": "stream",
     "text": [
      "`xtol` termination condition is satisfied.\n",
      "Number of iterations: 306, function evaluations: 6426, CG iterations: 2666, optimality: 9.72e-10, constraint violation: 1.48e-04, execution time: 3.7e+01 s.\n"
     ]
    },
    {
     "name": "stderr",
     "output_type": "stream",
     "text": [
      "100%|██████████| 6/6 [01:25<00:00, 14.25s/it]\n",
      "100%|██████████| 31/31 [1:01:40<00:00, 119.36s/it]"
     ]
    },
    {
     "name": "stdout",
     "output_type": "stream",
     "text": [
      "`xtol` termination condition is satisfied.\n",
      "Number of iterations: 192, function evaluations: 5796, CG iterations: 1387, optimality: 2.19e-06, constraint violation: 0.00e+00, execution time: 3.4e+01 s.\n"
     ]
    },
    {
     "name": "stderr",
     "output_type": "stream",
     "text": [
      "\n"
     ]
    }
   ],
   "source": [
    "products = product([0.9, 0.925, 0.95, 0.975, 0.99], [0, 0.1, 0.3, 0.5, 0.7, 0.9])\n",
    "products = list(products)\n",
    "products.insert(0, (1, 1))\n",
    "index = pd.MultiIndex.from_tuples(products, names=[\"Alpha\", \"Lambda\"])\n",
    "optimized_decisions = pd.DataFrame(index=index, columns=[f'P{i}' for i in range(1, 21)])\n",
    "\n",
    "for i, j in tqdm(products):\n",
    "    result = optimize_decisions(projects, risk_weights, alpha=i, lambda_=j, n_samples=200)\n",
    "    result = pd.Series(result).apply(int).values\n",
    "    optimized_decisions.loc[(i, j), [f'P{i}' for i in range(1, 21)]] = result\n",
    "\n",
    "    for category in categories.keys():\n",
    "        optimized_decisions.loc[(i, j), category] = (result > 0) @ categories[category]\n",
    "\n",
    "    optimized_decisions.loc[(i, j), 'Total'] = np.sum(result > 0)    "
   ]
  },
  {
   "cell_type": "code",
   "execution_count": 5,
   "metadata": {},
   "outputs": [
    {
     "data": {
      "text/html": [
       "<div>\n",
       "<style scoped>\n",
       "    .dataframe tbody tr th:only-of-type {\n",
       "        vertical-align: middle;\n",
       "    }\n",
       "\n",
       "    .dataframe tbody tr th {\n",
       "        vertical-align: top;\n",
       "    }\n",
       "\n",
       "    .dataframe thead th {\n",
       "        text-align: right;\n",
       "    }\n",
       "</style>\n",
       "<table border=\"1\" class=\"dataframe\">\n",
       "  <thead>\n",
       "    <tr style=\"text-align: right;\">\n",
       "      <th></th>\n",
       "      <th></th>\n",
       "      <th>P1</th>\n",
       "      <th>P2</th>\n",
       "      <th>P3</th>\n",
       "      <th>P4</th>\n",
       "      <th>P5</th>\n",
       "      <th>P6</th>\n",
       "      <th>P7</th>\n",
       "      <th>P8</th>\n",
       "      <th>P9</th>\n",
       "      <th>P10</th>\n",
       "      <th>...</th>\n",
       "      <th>P16</th>\n",
       "      <th>P17</th>\n",
       "      <th>P18</th>\n",
       "      <th>P19</th>\n",
       "      <th>P20</th>\n",
       "      <th>Derivative</th>\n",
       "      <th>Platform</th>\n",
       "      <th>Breakthrough</th>\n",
       "      <th>R&amp;D</th>\n",
       "      <th>Total</th>\n",
       "    </tr>\n",
       "    <tr>\n",
       "      <th>Alpha</th>\n",
       "      <th>Lambda</th>\n",
       "      <th></th>\n",
       "      <th></th>\n",
       "      <th></th>\n",
       "      <th></th>\n",
       "      <th></th>\n",
       "      <th></th>\n",
       "      <th></th>\n",
       "      <th></th>\n",
       "      <th></th>\n",
       "      <th></th>\n",
       "      <th></th>\n",
       "      <th></th>\n",
       "      <th></th>\n",
       "      <th></th>\n",
       "      <th></th>\n",
       "      <th></th>\n",
       "      <th></th>\n",
       "      <th></th>\n",
       "      <th></th>\n",
       "      <th></th>\n",
       "      <th></th>\n",
       "    </tr>\n",
       "  </thead>\n",
       "  <tbody>\n",
       "    <tr>\n",
       "      <th>1.000</th>\n",
       "      <th>1.0</th>\n",
       "      <td>0</td>\n",
       "      <td>1</td>\n",
       "      <td>0</td>\n",
       "      <td>0</td>\n",
       "      <td>0</td>\n",
       "      <td>20</td>\n",
       "      <td>1</td>\n",
       "      <td>20</td>\n",
       "      <td>0</td>\n",
       "      <td>0</td>\n",
       "      <td>...</td>\n",
       "      <td>0</td>\n",
       "      <td>16</td>\n",
       "      <td>0</td>\n",
       "      <td>0</td>\n",
       "      <td>0</td>\n",
       "      <td>4.0</td>\n",
       "      <td>2.0</td>\n",
       "      <td>2.0</td>\n",
       "      <td>0.0</td>\n",
       "      <td>8.0</td>\n",
       "    </tr>\n",
       "    <tr>\n",
       "      <th rowspan=\"6\" valign=\"top\">0.900</th>\n",
       "      <th>0.0</th>\n",
       "      <td>0</td>\n",
       "      <td>11</td>\n",
       "      <td>0</td>\n",
       "      <td>1</td>\n",
       "      <td>0</td>\n",
       "      <td>19</td>\n",
       "      <td>2</td>\n",
       "      <td>19</td>\n",
       "      <td>0</td>\n",
       "      <td>0</td>\n",
       "      <td>...</td>\n",
       "      <td>0</td>\n",
       "      <td>11</td>\n",
       "      <td>0</td>\n",
       "      <td>0</td>\n",
       "      <td>0</td>\n",
       "      <td>5.0</td>\n",
       "      <td>1.0</td>\n",
       "      <td>2.0</td>\n",
       "      <td>0.0</td>\n",
       "      <td>8.0</td>\n",
       "    </tr>\n",
       "    <tr>\n",
       "      <th>0.1</th>\n",
       "      <td>0</td>\n",
       "      <td>11</td>\n",
       "      <td>0</td>\n",
       "      <td>1</td>\n",
       "      <td>0</td>\n",
       "      <td>19</td>\n",
       "      <td>3</td>\n",
       "      <td>19</td>\n",
       "      <td>0</td>\n",
       "      <td>0</td>\n",
       "      <td>...</td>\n",
       "      <td>0</td>\n",
       "      <td>11</td>\n",
       "      <td>0</td>\n",
       "      <td>0</td>\n",
       "      <td>0</td>\n",
       "      <td>5.0</td>\n",
       "      <td>1.0</td>\n",
       "      <td>2.0</td>\n",
       "      <td>0.0</td>\n",
       "      <td>8.0</td>\n",
       "    </tr>\n",
       "    <tr>\n",
       "      <th>0.3</th>\n",
       "      <td>0</td>\n",
       "      <td>2</td>\n",
       "      <td>0</td>\n",
       "      <td>0</td>\n",
       "      <td>0</td>\n",
       "      <td>19</td>\n",
       "      <td>1</td>\n",
       "      <td>19</td>\n",
       "      <td>0</td>\n",
       "      <td>0</td>\n",
       "      <td>...</td>\n",
       "      <td>0</td>\n",
       "      <td>12</td>\n",
       "      <td>0</td>\n",
       "      <td>0</td>\n",
       "      <td>0</td>\n",
       "      <td>4.0</td>\n",
       "      <td>2.0</td>\n",
       "      <td>2.0</td>\n",
       "      <td>0.0</td>\n",
       "      <td>8.0</td>\n",
       "    </tr>\n",
       "    <tr>\n",
       "      <th>0.5</th>\n",
       "      <td>0</td>\n",
       "      <td>3</td>\n",
       "      <td>0</td>\n",
       "      <td>0</td>\n",
       "      <td>0</td>\n",
       "      <td>20</td>\n",
       "      <td>1</td>\n",
       "      <td>19</td>\n",
       "      <td>0</td>\n",
       "      <td>0</td>\n",
       "      <td>...</td>\n",
       "      <td>0</td>\n",
       "      <td>11</td>\n",
       "      <td>0</td>\n",
       "      <td>0</td>\n",
       "      <td>0</td>\n",
       "      <td>4.0</td>\n",
       "      <td>2.0</td>\n",
       "      <td>2.0</td>\n",
       "      <td>0.0</td>\n",
       "      <td>8.0</td>\n",
       "    </tr>\n",
       "    <tr>\n",
       "      <th>0.7</th>\n",
       "      <td>0</td>\n",
       "      <td>1</td>\n",
       "      <td>0</td>\n",
       "      <td>0</td>\n",
       "      <td>0</td>\n",
       "      <td>20</td>\n",
       "      <td>1</td>\n",
       "      <td>20</td>\n",
       "      <td>0</td>\n",
       "      <td>0</td>\n",
       "      <td>...</td>\n",
       "      <td>0</td>\n",
       "      <td>16</td>\n",
       "      <td>0</td>\n",
       "      <td>0</td>\n",
       "      <td>0</td>\n",
       "      <td>4.0</td>\n",
       "      <td>2.0</td>\n",
       "      <td>2.0</td>\n",
       "      <td>0.0</td>\n",
       "      <td>8.0</td>\n",
       "    </tr>\n",
       "    <tr>\n",
       "      <th>0.9</th>\n",
       "      <td>0</td>\n",
       "      <td>1</td>\n",
       "      <td>0</td>\n",
       "      <td>0</td>\n",
       "      <td>0</td>\n",
       "      <td>20</td>\n",
       "      <td>1</td>\n",
       "      <td>20</td>\n",
       "      <td>0</td>\n",
       "      <td>0</td>\n",
       "      <td>...</td>\n",
       "      <td>0</td>\n",
       "      <td>16</td>\n",
       "      <td>0</td>\n",
       "      <td>0</td>\n",
       "      <td>0</td>\n",
       "      <td>4.0</td>\n",
       "      <td>2.0</td>\n",
       "      <td>2.0</td>\n",
       "      <td>0.0</td>\n",
       "      <td>8.0</td>\n",
       "    </tr>\n",
       "    <tr>\n",
       "      <th rowspan=\"6\" valign=\"top\">0.925</th>\n",
       "      <th>0.0</th>\n",
       "      <td>0</td>\n",
       "      <td>11</td>\n",
       "      <td>0</td>\n",
       "      <td>1</td>\n",
       "      <td>0</td>\n",
       "      <td>19</td>\n",
       "      <td>2</td>\n",
       "      <td>19</td>\n",
       "      <td>0</td>\n",
       "      <td>0</td>\n",
       "      <td>...</td>\n",
       "      <td>0</td>\n",
       "      <td>11</td>\n",
       "      <td>0</td>\n",
       "      <td>0</td>\n",
       "      <td>0</td>\n",
       "      <td>5.0</td>\n",
       "      <td>1.0</td>\n",
       "      <td>2.0</td>\n",
       "      <td>0.0</td>\n",
       "      <td>8.0</td>\n",
       "    </tr>\n",
       "    <tr>\n",
       "      <th>0.1</th>\n",
       "      <td>0</td>\n",
       "      <td>11</td>\n",
       "      <td>0</td>\n",
       "      <td>1</td>\n",
       "      <td>0</td>\n",
       "      <td>19</td>\n",
       "      <td>2</td>\n",
       "      <td>19</td>\n",
       "      <td>0</td>\n",
       "      <td>0</td>\n",
       "      <td>...</td>\n",
       "      <td>0</td>\n",
       "      <td>11</td>\n",
       "      <td>0</td>\n",
       "      <td>0</td>\n",
       "      <td>0</td>\n",
       "      <td>5.0</td>\n",
       "      <td>1.0</td>\n",
       "      <td>2.0</td>\n",
       "      <td>0.0</td>\n",
       "      <td>8.0</td>\n",
       "    </tr>\n",
       "    <tr>\n",
       "      <th>0.3</th>\n",
       "      <td>0</td>\n",
       "      <td>10</td>\n",
       "      <td>0</td>\n",
       "      <td>1</td>\n",
       "      <td>0</td>\n",
       "      <td>19</td>\n",
       "      <td>2</td>\n",
       "      <td>19</td>\n",
       "      <td>0</td>\n",
       "      <td>0</td>\n",
       "      <td>...</td>\n",
       "      <td>0</td>\n",
       "      <td>10</td>\n",
       "      <td>0</td>\n",
       "      <td>0</td>\n",
       "      <td>0</td>\n",
       "      <td>5.0</td>\n",
       "      <td>1.0</td>\n",
       "      <td>2.0</td>\n",
       "      <td>0.0</td>\n",
       "      <td>8.0</td>\n",
       "    </tr>\n",
       "    <tr>\n",
       "      <th>0.5</th>\n",
       "      <td>0</td>\n",
       "      <td>3</td>\n",
       "      <td>0</td>\n",
       "      <td>0</td>\n",
       "      <td>0</td>\n",
       "      <td>20</td>\n",
       "      <td>1</td>\n",
       "      <td>19</td>\n",
       "      <td>0</td>\n",
       "      <td>0</td>\n",
       "      <td>...</td>\n",
       "      <td>0</td>\n",
       "      <td>11</td>\n",
       "      <td>0</td>\n",
       "      <td>0</td>\n",
       "      <td>0</td>\n",
       "      <td>4.0</td>\n",
       "      <td>2.0</td>\n",
       "      <td>2.0</td>\n",
       "      <td>0.0</td>\n",
       "      <td>8.0</td>\n",
       "    </tr>\n",
       "    <tr>\n",
       "      <th>0.7</th>\n",
       "      <td>0</td>\n",
       "      <td>1</td>\n",
       "      <td>0</td>\n",
       "      <td>0</td>\n",
       "      <td>0</td>\n",
       "      <td>20</td>\n",
       "      <td>1</td>\n",
       "      <td>20</td>\n",
       "      <td>0</td>\n",
       "      <td>0</td>\n",
       "      <td>...</td>\n",
       "      <td>0</td>\n",
       "      <td>16</td>\n",
       "      <td>0</td>\n",
       "      <td>0</td>\n",
       "      <td>0</td>\n",
       "      <td>4.0</td>\n",
       "      <td>2.0</td>\n",
       "      <td>2.0</td>\n",
       "      <td>0.0</td>\n",
       "      <td>8.0</td>\n",
       "    </tr>\n",
       "    <tr>\n",
       "      <th>0.9</th>\n",
       "      <td>0</td>\n",
       "      <td>1</td>\n",
       "      <td>0</td>\n",
       "      <td>0</td>\n",
       "      <td>0</td>\n",
       "      <td>20</td>\n",
       "      <td>1</td>\n",
       "      <td>20</td>\n",
       "      <td>0</td>\n",
       "      <td>0</td>\n",
       "      <td>...</td>\n",
       "      <td>0</td>\n",
       "      <td>16</td>\n",
       "      <td>0</td>\n",
       "      <td>0</td>\n",
       "      <td>0</td>\n",
       "      <td>4.0</td>\n",
       "      <td>2.0</td>\n",
       "      <td>2.0</td>\n",
       "      <td>0.0</td>\n",
       "      <td>8.0</td>\n",
       "    </tr>\n",
       "    <tr>\n",
       "      <th rowspan=\"6\" valign=\"top\">0.950</th>\n",
       "      <th>0.0</th>\n",
       "      <td>0</td>\n",
       "      <td>11</td>\n",
       "      <td>0</td>\n",
       "      <td>1</td>\n",
       "      <td>0</td>\n",
       "      <td>19</td>\n",
       "      <td>2</td>\n",
       "      <td>19</td>\n",
       "      <td>0</td>\n",
       "      <td>0</td>\n",
       "      <td>...</td>\n",
       "      <td>0</td>\n",
       "      <td>11</td>\n",
       "      <td>0</td>\n",
       "      <td>0</td>\n",
       "      <td>0</td>\n",
       "      <td>5.0</td>\n",
       "      <td>1.0</td>\n",
       "      <td>2.0</td>\n",
       "      <td>0.0</td>\n",
       "      <td>8.0</td>\n",
       "    </tr>\n",
       "    <tr>\n",
       "      <th>0.1</th>\n",
       "      <td>0</td>\n",
       "      <td>11</td>\n",
       "      <td>0</td>\n",
       "      <td>1</td>\n",
       "      <td>0</td>\n",
       "      <td>19</td>\n",
       "      <td>2</td>\n",
       "      <td>19</td>\n",
       "      <td>0</td>\n",
       "      <td>0</td>\n",
       "      <td>...</td>\n",
       "      <td>0</td>\n",
       "      <td>11</td>\n",
       "      <td>0</td>\n",
       "      <td>0</td>\n",
       "      <td>0</td>\n",
       "      <td>5.0</td>\n",
       "      <td>1.0</td>\n",
       "      <td>2.0</td>\n",
       "      <td>0.0</td>\n",
       "      <td>8.0</td>\n",
       "    </tr>\n",
       "    <tr>\n",
       "      <th>0.3</th>\n",
       "      <td>0</td>\n",
       "      <td>10</td>\n",
       "      <td>0</td>\n",
       "      <td>1</td>\n",
       "      <td>0</td>\n",
       "      <td>19</td>\n",
       "      <td>3</td>\n",
       "      <td>19</td>\n",
       "      <td>0</td>\n",
       "      <td>0</td>\n",
       "      <td>...</td>\n",
       "      <td>0</td>\n",
       "      <td>11</td>\n",
       "      <td>0</td>\n",
       "      <td>0</td>\n",
       "      <td>0</td>\n",
       "      <td>5.0</td>\n",
       "      <td>1.0</td>\n",
       "      <td>2.0</td>\n",
       "      <td>0.0</td>\n",
       "      <td>8.0</td>\n",
       "    </tr>\n",
       "    <tr>\n",
       "      <th>0.5</th>\n",
       "      <td>0</td>\n",
       "      <td>1</td>\n",
       "      <td>0</td>\n",
       "      <td>0</td>\n",
       "      <td>0</td>\n",
       "      <td>20</td>\n",
       "      <td>1</td>\n",
       "      <td>20</td>\n",
       "      <td>0</td>\n",
       "      <td>0</td>\n",
       "      <td>...</td>\n",
       "      <td>0</td>\n",
       "      <td>16</td>\n",
       "      <td>0</td>\n",
       "      <td>0</td>\n",
       "      <td>0</td>\n",
       "      <td>4.0</td>\n",
       "      <td>2.0</td>\n",
       "      <td>2.0</td>\n",
       "      <td>0.0</td>\n",
       "      <td>8.0</td>\n",
       "    </tr>\n",
       "    <tr>\n",
       "      <th>0.7</th>\n",
       "      <td>0</td>\n",
       "      <td>2</td>\n",
       "      <td>0</td>\n",
       "      <td>0</td>\n",
       "      <td>0</td>\n",
       "      <td>19</td>\n",
       "      <td>1</td>\n",
       "      <td>19</td>\n",
       "      <td>0</td>\n",
       "      <td>0</td>\n",
       "      <td>...</td>\n",
       "      <td>0</td>\n",
       "      <td>11</td>\n",
       "      <td>0</td>\n",
       "      <td>0</td>\n",
       "      <td>0</td>\n",
       "      <td>4.0</td>\n",
       "      <td>2.0</td>\n",
       "      <td>2.0</td>\n",
       "      <td>0.0</td>\n",
       "      <td>8.0</td>\n",
       "    </tr>\n",
       "    <tr>\n",
       "      <th>0.9</th>\n",
       "      <td>0</td>\n",
       "      <td>1</td>\n",
       "      <td>0</td>\n",
       "      <td>0</td>\n",
       "      <td>0</td>\n",
       "      <td>20</td>\n",
       "      <td>1</td>\n",
       "      <td>20</td>\n",
       "      <td>0</td>\n",
       "      <td>0</td>\n",
       "      <td>...</td>\n",
       "      <td>0</td>\n",
       "      <td>16</td>\n",
       "      <td>0</td>\n",
       "      <td>0</td>\n",
       "      <td>0</td>\n",
       "      <td>4.0</td>\n",
       "      <td>2.0</td>\n",
       "      <td>2.0</td>\n",
       "      <td>0.0</td>\n",
       "      <td>8.0</td>\n",
       "    </tr>\n",
       "    <tr>\n",
       "      <th rowspan=\"6\" valign=\"top\">0.975</th>\n",
       "      <th>0.0</th>\n",
       "      <td>0</td>\n",
       "      <td>10</td>\n",
       "      <td>0</td>\n",
       "      <td>1</td>\n",
       "      <td>0</td>\n",
       "      <td>19</td>\n",
       "      <td>2</td>\n",
       "      <td>19</td>\n",
       "      <td>0</td>\n",
       "      <td>0</td>\n",
       "      <td>...</td>\n",
       "      <td>0</td>\n",
       "      <td>11</td>\n",
       "      <td>0</td>\n",
       "      <td>0</td>\n",
       "      <td>0</td>\n",
       "      <td>5.0</td>\n",
       "      <td>1.0</td>\n",
       "      <td>2.0</td>\n",
       "      <td>0.0</td>\n",
       "      <td>8.0</td>\n",
       "    </tr>\n",
       "    <tr>\n",
       "      <th>0.1</th>\n",
       "      <td>0</td>\n",
       "      <td>11</td>\n",
       "      <td>0</td>\n",
       "      <td>1</td>\n",
       "      <td>0</td>\n",
       "      <td>19</td>\n",
       "      <td>2</td>\n",
       "      <td>19</td>\n",
       "      <td>0</td>\n",
       "      <td>0</td>\n",
       "      <td>...</td>\n",
       "      <td>0</td>\n",
       "      <td>11</td>\n",
       "      <td>0</td>\n",
       "      <td>0</td>\n",
       "      <td>0</td>\n",
       "      <td>5.0</td>\n",
       "      <td>1.0</td>\n",
       "      <td>2.0</td>\n",
       "      <td>0.0</td>\n",
       "      <td>8.0</td>\n",
       "    </tr>\n",
       "    <tr>\n",
       "      <th>0.3</th>\n",
       "      <td>0</td>\n",
       "      <td>10</td>\n",
       "      <td>0</td>\n",
       "      <td>1</td>\n",
       "      <td>0</td>\n",
       "      <td>19</td>\n",
       "      <td>3</td>\n",
       "      <td>19</td>\n",
       "      <td>0</td>\n",
       "      <td>0</td>\n",
       "      <td>...</td>\n",
       "      <td>0</td>\n",
       "      <td>11</td>\n",
       "      <td>0</td>\n",
       "      <td>0</td>\n",
       "      <td>0</td>\n",
       "      <td>5.0</td>\n",
       "      <td>1.0</td>\n",
       "      <td>2.0</td>\n",
       "      <td>0.0</td>\n",
       "      <td>8.0</td>\n",
       "    </tr>\n",
       "    <tr>\n",
       "      <th>0.5</th>\n",
       "      <td>0</td>\n",
       "      <td>2</td>\n",
       "      <td>0</td>\n",
       "      <td>0</td>\n",
       "      <td>0</td>\n",
       "      <td>20</td>\n",
       "      <td>1</td>\n",
       "      <td>20</td>\n",
       "      <td>0</td>\n",
       "      <td>0</td>\n",
       "      <td>...</td>\n",
       "      <td>0</td>\n",
       "      <td>11</td>\n",
       "      <td>0</td>\n",
       "      <td>0</td>\n",
       "      <td>0</td>\n",
       "      <td>4.0</td>\n",
       "      <td>2.0</td>\n",
       "      <td>2.0</td>\n",
       "      <td>0.0</td>\n",
       "      <td>8.0</td>\n",
       "    </tr>\n",
       "    <tr>\n",
       "      <th>0.7</th>\n",
       "      <td>0</td>\n",
       "      <td>1</td>\n",
       "      <td>0</td>\n",
       "      <td>0</td>\n",
       "      <td>0</td>\n",
       "      <td>20</td>\n",
       "      <td>1</td>\n",
       "      <td>20</td>\n",
       "      <td>0</td>\n",
       "      <td>0</td>\n",
       "      <td>...</td>\n",
       "      <td>0</td>\n",
       "      <td>16</td>\n",
       "      <td>0</td>\n",
       "      <td>0</td>\n",
       "      <td>0</td>\n",
       "      <td>4.0</td>\n",
       "      <td>2.0</td>\n",
       "      <td>2.0</td>\n",
       "      <td>0.0</td>\n",
       "      <td>8.0</td>\n",
       "    </tr>\n",
       "    <tr>\n",
       "      <th>0.9</th>\n",
       "      <td>0</td>\n",
       "      <td>1</td>\n",
       "      <td>0</td>\n",
       "      <td>0</td>\n",
       "      <td>0</td>\n",
       "      <td>20</td>\n",
       "      <td>1</td>\n",
       "      <td>20</td>\n",
       "      <td>0</td>\n",
       "      <td>0</td>\n",
       "      <td>...</td>\n",
       "      <td>0</td>\n",
       "      <td>16</td>\n",
       "      <td>0</td>\n",
       "      <td>0</td>\n",
       "      <td>0</td>\n",
       "      <td>4.0</td>\n",
       "      <td>2.0</td>\n",
       "      <td>2.0</td>\n",
       "      <td>0.0</td>\n",
       "      <td>8.0</td>\n",
       "    </tr>\n",
       "    <tr>\n",
       "      <th rowspan=\"6\" valign=\"top\">0.990</th>\n",
       "      <th>0.0</th>\n",
       "      <td>0</td>\n",
       "      <td>11</td>\n",
       "      <td>0</td>\n",
       "      <td>1</td>\n",
       "      <td>0</td>\n",
       "      <td>19</td>\n",
       "      <td>2</td>\n",
       "      <td>19</td>\n",
       "      <td>0</td>\n",
       "      <td>0</td>\n",
       "      <td>...</td>\n",
       "      <td>0</td>\n",
       "      <td>11</td>\n",
       "      <td>0</td>\n",
       "      <td>0</td>\n",
       "      <td>0</td>\n",
       "      <td>5.0</td>\n",
       "      <td>1.0</td>\n",
       "      <td>2.0</td>\n",
       "      <td>0.0</td>\n",
       "      <td>8.0</td>\n",
       "    </tr>\n",
       "    <tr>\n",
       "      <th>0.1</th>\n",
       "      <td>0</td>\n",
       "      <td>10</td>\n",
       "      <td>0</td>\n",
       "      <td>1</td>\n",
       "      <td>0</td>\n",
       "      <td>19</td>\n",
       "      <td>2</td>\n",
       "      <td>19</td>\n",
       "      <td>0</td>\n",
       "      <td>0</td>\n",
       "      <td>...</td>\n",
       "      <td>0</td>\n",
       "      <td>11</td>\n",
       "      <td>0</td>\n",
       "      <td>0</td>\n",
       "      <td>0</td>\n",
       "      <td>5.0</td>\n",
       "      <td>1.0</td>\n",
       "      <td>2.0</td>\n",
       "      <td>0.0</td>\n",
       "      <td>8.0</td>\n",
       "    </tr>\n",
       "    <tr>\n",
       "      <th>0.3</th>\n",
       "      <td>0</td>\n",
       "      <td>11</td>\n",
       "      <td>0</td>\n",
       "      <td>1</td>\n",
       "      <td>0</td>\n",
       "      <td>19</td>\n",
       "      <td>2</td>\n",
       "      <td>19</td>\n",
       "      <td>0</td>\n",
       "      <td>0</td>\n",
       "      <td>...</td>\n",
       "      <td>0</td>\n",
       "      <td>11</td>\n",
       "      <td>0</td>\n",
       "      <td>0</td>\n",
       "      <td>0</td>\n",
       "      <td>5.0</td>\n",
       "      <td>1.0</td>\n",
       "      <td>2.0</td>\n",
       "      <td>0.0</td>\n",
       "      <td>8.0</td>\n",
       "    </tr>\n",
       "    <tr>\n",
       "      <th>0.5</th>\n",
       "      <td>0</td>\n",
       "      <td>3</td>\n",
       "      <td>0</td>\n",
       "      <td>0</td>\n",
       "      <td>0</td>\n",
       "      <td>20</td>\n",
       "      <td>1</td>\n",
       "      <td>20</td>\n",
       "      <td>0</td>\n",
       "      <td>0</td>\n",
       "      <td>...</td>\n",
       "      <td>0</td>\n",
       "      <td>12</td>\n",
       "      <td>0</td>\n",
       "      <td>0</td>\n",
       "      <td>0</td>\n",
       "      <td>4.0</td>\n",
       "      <td>2.0</td>\n",
       "      <td>2.0</td>\n",
       "      <td>0.0</td>\n",
       "      <td>8.0</td>\n",
       "    </tr>\n",
       "    <tr>\n",
       "      <th>0.7</th>\n",
       "      <td>0</td>\n",
       "      <td>1</td>\n",
       "      <td>0</td>\n",
       "      <td>0</td>\n",
       "      <td>0</td>\n",
       "      <td>20</td>\n",
       "      <td>1</td>\n",
       "      <td>20</td>\n",
       "      <td>0</td>\n",
       "      <td>0</td>\n",
       "      <td>...</td>\n",
       "      <td>0</td>\n",
       "      <td>16</td>\n",
       "      <td>0</td>\n",
       "      <td>0</td>\n",
       "      <td>0</td>\n",
       "      <td>4.0</td>\n",
       "      <td>2.0</td>\n",
       "      <td>2.0</td>\n",
       "      <td>0.0</td>\n",
       "      <td>8.0</td>\n",
       "    </tr>\n",
       "    <tr>\n",
       "      <th>0.9</th>\n",
       "      <td>0</td>\n",
       "      <td>1</td>\n",
       "      <td>0</td>\n",
       "      <td>0</td>\n",
       "      <td>0</td>\n",
       "      <td>20</td>\n",
       "      <td>1</td>\n",
       "      <td>20</td>\n",
       "      <td>0</td>\n",
       "      <td>0</td>\n",
       "      <td>...</td>\n",
       "      <td>0</td>\n",
       "      <td>16</td>\n",
       "      <td>0</td>\n",
       "      <td>0</td>\n",
       "      <td>0</td>\n",
       "      <td>4.0</td>\n",
       "      <td>2.0</td>\n",
       "      <td>2.0</td>\n",
       "      <td>0.0</td>\n",
       "      <td>8.0</td>\n",
       "    </tr>\n",
       "  </tbody>\n",
       "</table>\n",
       "<p>31 rows × 25 columns</p>\n",
       "</div>"
      ],
      "text/plain": [
       "             P1  P2 P3 P4 P5  P6 P7  P8 P9 P10  ... P16 P17 P18 P19 P20  \\\n",
       "Alpha Lambda                                    ...                       \n",
       "1.000 1.0     0   1  0  0  0  20  1  20  0   0  ...   0  16   0   0   0   \n",
       "0.900 0.0     0  11  0  1  0  19  2  19  0   0  ...   0  11   0   0   0   \n",
       "      0.1     0  11  0  1  0  19  3  19  0   0  ...   0  11   0   0   0   \n",
       "      0.3     0   2  0  0  0  19  1  19  0   0  ...   0  12   0   0   0   \n",
       "      0.5     0   3  0  0  0  20  1  19  0   0  ...   0  11   0   0   0   \n",
       "      0.7     0   1  0  0  0  20  1  20  0   0  ...   0  16   0   0   0   \n",
       "      0.9     0   1  0  0  0  20  1  20  0   0  ...   0  16   0   0   0   \n",
       "0.925 0.0     0  11  0  1  0  19  2  19  0   0  ...   0  11   0   0   0   \n",
       "      0.1     0  11  0  1  0  19  2  19  0   0  ...   0  11   0   0   0   \n",
       "      0.3     0  10  0  1  0  19  2  19  0   0  ...   0  10   0   0   0   \n",
       "      0.5     0   3  0  0  0  20  1  19  0   0  ...   0  11   0   0   0   \n",
       "      0.7     0   1  0  0  0  20  1  20  0   0  ...   0  16   0   0   0   \n",
       "      0.9     0   1  0  0  0  20  1  20  0   0  ...   0  16   0   0   0   \n",
       "0.950 0.0     0  11  0  1  0  19  2  19  0   0  ...   0  11   0   0   0   \n",
       "      0.1     0  11  0  1  0  19  2  19  0   0  ...   0  11   0   0   0   \n",
       "      0.3     0  10  0  1  0  19  3  19  0   0  ...   0  11   0   0   0   \n",
       "      0.5     0   1  0  0  0  20  1  20  0   0  ...   0  16   0   0   0   \n",
       "      0.7     0   2  0  0  0  19  1  19  0   0  ...   0  11   0   0   0   \n",
       "      0.9     0   1  0  0  0  20  1  20  0   0  ...   0  16   0   0   0   \n",
       "0.975 0.0     0  10  0  1  0  19  2  19  0   0  ...   0  11   0   0   0   \n",
       "      0.1     0  11  0  1  0  19  2  19  0   0  ...   0  11   0   0   0   \n",
       "      0.3     0  10  0  1  0  19  3  19  0   0  ...   0  11   0   0   0   \n",
       "      0.5     0   2  0  0  0  20  1  20  0   0  ...   0  11   0   0   0   \n",
       "      0.7     0   1  0  0  0  20  1  20  0   0  ...   0  16   0   0   0   \n",
       "      0.9     0   1  0  0  0  20  1  20  0   0  ...   0  16   0   0   0   \n",
       "0.990 0.0     0  11  0  1  0  19  2  19  0   0  ...   0  11   0   0   0   \n",
       "      0.1     0  10  0  1  0  19  2  19  0   0  ...   0  11   0   0   0   \n",
       "      0.3     0  11  0  1  0  19  2  19  0   0  ...   0  11   0   0   0   \n",
       "      0.5     0   3  0  0  0  20  1  20  0   0  ...   0  12   0   0   0   \n",
       "      0.7     0   1  0  0  0  20  1  20  0   0  ...   0  16   0   0   0   \n",
       "      0.9     0   1  0  0  0  20  1  20  0   0  ...   0  16   0   0   0   \n",
       "\n",
       "             Derivative Platform Breakthrough  R&D Total  \n",
       "Alpha Lambda                                              \n",
       "1.000 1.0           4.0      2.0          2.0  0.0   8.0  \n",
       "0.900 0.0           5.0      1.0          2.0  0.0   8.0  \n",
       "      0.1           5.0      1.0          2.0  0.0   8.0  \n",
       "      0.3           4.0      2.0          2.0  0.0   8.0  \n",
       "      0.5           4.0      2.0          2.0  0.0   8.0  \n",
       "      0.7           4.0      2.0          2.0  0.0   8.0  \n",
       "      0.9           4.0      2.0          2.0  0.0   8.0  \n",
       "0.925 0.0           5.0      1.0          2.0  0.0   8.0  \n",
       "      0.1           5.0      1.0          2.0  0.0   8.0  \n",
       "      0.3           5.0      1.0          2.0  0.0   8.0  \n",
       "      0.5           4.0      2.0          2.0  0.0   8.0  \n",
       "      0.7           4.0      2.0          2.0  0.0   8.0  \n",
       "      0.9           4.0      2.0          2.0  0.0   8.0  \n",
       "0.950 0.0           5.0      1.0          2.0  0.0   8.0  \n",
       "      0.1           5.0      1.0          2.0  0.0   8.0  \n",
       "      0.3           5.0      1.0          2.0  0.0   8.0  \n",
       "      0.5           4.0      2.0          2.0  0.0   8.0  \n",
       "      0.7           4.0      2.0          2.0  0.0   8.0  \n",
       "      0.9           4.0      2.0          2.0  0.0   8.0  \n",
       "0.975 0.0           5.0      1.0          2.0  0.0   8.0  \n",
       "      0.1           5.0      1.0          2.0  0.0   8.0  \n",
       "      0.3           5.0      1.0          2.0  0.0   8.0  \n",
       "      0.5           4.0      2.0          2.0  0.0   8.0  \n",
       "      0.7           4.0      2.0          2.0  0.0   8.0  \n",
       "      0.9           4.0      2.0          2.0  0.0   8.0  \n",
       "0.990 0.0           5.0      1.0          2.0  0.0   8.0  \n",
       "      0.1           5.0      1.0          2.0  0.0   8.0  \n",
       "      0.3           5.0      1.0          2.0  0.0   8.0  \n",
       "      0.5           4.0      2.0          2.0  0.0   8.0  \n",
       "      0.7           4.0      2.0          2.0  0.0   8.0  \n",
       "      0.9           4.0      2.0          2.0  0.0   8.0  \n",
       "\n",
       "[31 rows x 25 columns]"
      ]
     },
     "execution_count": 5,
     "metadata": {},
     "output_type": "execute_result"
    }
   ],
   "source": [
    "optimized_decisions.to_csv('decisions.csv')\n",
    "optimized_decisions"
   ]
  }
 ],
 "metadata": {
  "kernelspec": {
   "display_name": "Cobra",
   "language": "python",
   "name": "python3"
  },
  "language_info": {
   "codemirror_mode": {
    "name": "ipython",
    "version": 3
   },
   "file_extension": ".py",
   "mimetype": "text/x-python",
   "name": "python",
   "nbconvert_exporter": "python",
   "pygments_lexer": "ipython3",
   "version": "3.10.9 (main, Mar  8 2023, 10:47:38) [GCC 11.2.0]"
  },
  "orig_nbformat": 4,
  "vscode": {
   "interpreter": {
    "hash": "b6f6a60647d5c9ecf92c571d4c9269f5188e8e74f1bb9cf7fc76c42ff6a62e47"
   }
  }
 },
 "nbformat": 4,
 "nbformat_minor": 2
}
